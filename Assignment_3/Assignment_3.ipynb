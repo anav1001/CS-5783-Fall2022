{
 "cells": [
  {
   "cell_type": "code",
   "execution_count": 1,
   "metadata": {
    "colab": {
     "base_uri": "https://localhost:8080/"
    },
    "executionInfo": {
     "elapsed": 130,
     "status": "ok",
     "timestamp": 1667347568673,
     "user": {
      "displayName": "Alberto Navarro",
      "userId": "07299865193384909733"
     },
     "user_tz": 300
    },
    "id": "-lduQvi880pL",
    "outputId": "8b72812e-b7ee-4ce5-9fad-c3659dabeedb"
   },
   "outputs": [
    {
     "name": "stderr",
     "output_type": "stream",
     "text": [
      "2022-11-02 00:37:17.561370: I tensorflow/core/util/util.cc:169] oneDNN custom operations are on. You may see slightly different numerical results due to floating-point round-off errors from different computation orders. To turn them off, set the environment variable `TF_ENABLE_ONEDNN_OPTS=0`.\n",
      "2022-11-02 00:37:17.615869: W tensorflow/stream_executor/platform/default/dso_loader.cc:64] Could not load dynamic library 'libcudart.so.11.0'; dlerror: libcudart.so.11.0: cannot open shared object file: No such file or directory\n",
      "2022-11-02 00:37:17.615880: I tensorflow/stream_executor/cuda/cudart_stub.cc:29] Ignore above cudart dlerror if you do not have a GPU set up on your machine.\n"
     ]
    }
   ],
   "source": [
    "# Load the TensorBoard notebook extension.\n",
    "%load_ext tensorboard\n",
    "\n",
    "from datetime import datetime\n",
    "from packaging import version\n",
    "\n",
    "import tensorflow as tf\n",
    "from tensorflow import keras\n",
    "\n",
    "from keras import backend as K\n",
    "\n",
    "import tensorboard\n",
    "import matplotlib.pyplot as plt\n",
    "\n",
    "import numpy as np"
   ]
  },
  {
   "cell_type": "markdown",
   "metadata": {
    "id": "doHQpg5c8wu_"
   },
   "source": [
    "# Question 1"
   ]
  },
  {
   "cell_type": "code",
   "execution_count": 2,
   "metadata": {
    "executionInfo": {
     "elapsed": 434,
     "status": "ok",
     "timestamp": 1667347570092,
     "user": {
      "displayName": "Alberto Navarro",
      "userId": "07299865193384909733"
     },
     "user_tz": 300
    },
    "id": "Vmodq7ol8kYE"
   },
   "outputs": [],
   "source": [
    "(train_images, train_labels), (test_images, test_labels) = keras.datasets.mnist.load_data()\n",
    "train_images = train_images / 255.0"
   ]
  },
  {
   "cell_type": "code",
   "execution_count": 3,
   "metadata": {
    "colab": {
     "base_uri": "https://localhost:8080/",
     "height": 227
    },
    "executionInfo": {
     "elapsed": 44687,
     "status": "ok",
     "timestamp": 1667347616499,
     "user": {
      "displayName": "Alberto Navarro",
      "userId": "07299865193384909733"
     },
     "user_tz": 300
    },
    "id": "Jdj2ozeb9gYS",
    "outputId": "57756ea9-0e37-4494-abd1-89f2cf838ccc"
   },
   "outputs": [
    {
     "data": {
      "image/png": "[encoded data removed]",
      "text/plain": [
       "<Figure size 432x288 with 10 Axes>"
      ]
     },
     "metadata": {
      "needs_background": "light"
     },
     "output_type": "display_data"
    }
   ],
   "source": [
    "fig, ax = plt.subplots(2,5)\n",
    "ax = ax.flatten()\n",
    "for i in range(10):\n",
    "    im_idx = np.argwhere(train_labels == i)[0]\n",
    "    plottable_image = np.reshape(train_images[im_idx], (28, 28))\n",
    "    ax[i].imshow(plottable_image, cmap='gray')"
   ]
  },
  {
   "cell_type": "code",
   "execution_count": 4,
   "metadata": {
    "colab": {
     "base_uri": "https://localhost:8080/"
    },
    "executionInfo": {
     "elapsed": 12,
     "status": "ok",
     "timestamp": 1667347616500,
     "user": {
      "displayName": "Alberto Navarro",
      "userId": "07299865193384909733"
     },
     "user_tz": 300
    },
    "id": "_2zasDso9uPE",
    "outputId": "e09a9571-b884-4833-e26b-c56731eefb14"
   },
   "outputs": [
    {
     "name": "stdout",
     "output_type": "stream",
     "text": [
      "5\n"
     ]
    },
    {
     "data": {
      "text/plain": [
       "array([0., 0., 0., 0., 0., 1., 0., 0., 0., 0.], dtype=float32)"
      ]
     },
     "execution_count": 4,
     "metadata": {},
     "output_type": "execute_result"
    }
   ],
   "source": [
    "print(train_labels[100])\n",
    "\n",
    "tf.keras.utils.to_categorical(train_labels)[100]"
   ]
  },
  {
   "cell_type": "markdown",
   "metadata": {
    "id": "jPr0oYMlvC1U"
   },
   "source": [
    "### Model 1"
   ]
  },
  {
   "cell_type": "code",
   "execution_count": 5,
   "metadata": {
    "colab": {
     "base_uri": "https://localhost:8080/"
    },
    "executionInfo": {
     "elapsed": 360,
     "status": "ok",
     "timestamp": 1667347681290,
     "user": {
      "displayName": "Alberto Navarro",
      "userId": "07299865193384909733"
     },
     "user_tz": 300
    },
    "id": "eAISjA_e9tL-",
    "outputId": "0ee8f02d-b52d-44b1-8133-3adb49f68a1f"
   },
   "outputs": [
    {
     "name": "stdout",
     "output_type": "stream",
     "text": [
      "Model: \"sequential\"\n",
      "_________________________________________________________________\n",
      " Layer (type)                Output Shape              Param #   \n",
      "=================================================================\n",
      " conv2d (Conv2D)             (None, 26, 26, 4)         40        \n",
      "                                                                 \n",
      " conv2d_1 (Conv2D)           (None, 24, 24, 8)         296       \n",
      "                                                                 \n",
      " conv2d_2 (Conv2D)           (None, 22, 22, 12)        876       \n",
      "                                                                 \n",
      " conv2d_3 (Conv2D)           (None, 20, 20, 16)        1744      \n",
      "                                                                 \n",
      " conv2d_4 (Conv2D)           (None, 18, 18, 20)        2900      \n",
      "                                                                 \n",
      " conv2d_5 (Conv2D)           (None, 16, 16, 24)        4344      \n",
      "                                                                 \n",
      " conv2d_6 (Conv2D)           (None, 14, 14, 28)        6076      \n",
      "                                                                 \n",
      " conv2d_7 (Conv2D)           (None, 12, 12, 32)        8096      \n",
      "                                                                 \n",
      " conv2d_8 (Conv2D)           (None, 10, 10, 36)        10404     \n",
      "                                                                 \n",
      " conv2d_9 (Conv2D)           (None, 8, 8, 40)          13000     \n",
      "                                                                 \n",
      " flatten (Flatten)           (None, 2560)              0         \n",
      "                                                                 \n",
      " dense (Dense)               (None, 10)                25610     \n",
      "                                                                 \n",
      "=================================================================\n",
      "Total params: 73,386\n",
      "Trainable params: 73,386\n",
      "Non-trainable params: 0\n",
      "_________________________________________________________________\n"
     ]
    },
    {
     "name": "stderr",
     "output_type": "stream",
     "text": [
      "2022-11-01 21:34:01.094425: E tensorflow/stream_executor/cuda/cuda_driver.cc:271] failed call to cuInit: CUDA_ERROR_NO_DEVICE: no CUDA-capable device is detected\n",
      "2022-11-01 21:34:01.094484: I tensorflow/stream_executor/cuda/cuda_diagnostics.cc:156] kernel driver does not appear to be running on this host (alberto-Inspiron): /proc/driver/nvidia/version does not exist\n",
      "2022-11-01 21:34:01.095718: I tensorflow/core/platform/cpu_feature_guard.cc:193] This TensorFlow binary is optimized with oneAPI Deep Neural Network Library (oneDNN) to use the following CPU instructions in performance-critical operations:  AVX2 AVX512F AVX512_VNNI FMA\n",
      "To enable them in other operations, rebuild TensorFlow with the appropriate compiler flags.\n"
     ]
    }
   ],
   "source": [
    "# Sequential Model\n",
    "model1 = keras.models.Sequential([\n",
    "        keras.Input(shape=(28,28,1)),\n",
    "        keras.layers.Conv2D(4, kernel_size=(3, 3), activation=\"relu\"),\n",
    "        keras.layers.Conv2D(8, kernel_size=(3, 3), activation=\"relu\"),\n",
    "        keras.layers.Conv2D(12, kernel_size=(3, 3), activation=\"relu\"),\n",
    "        keras.layers.Conv2D(16, kernel_size=(3, 3), activation=\"relu\"),\n",
    "        keras.layers.Conv2D(20, kernel_size=(3, 3), activation=\"relu\"),\n",
    "        keras.layers.Conv2D(24, kernel_size=(3, 3), activation=\"relu\"),\n",
    "        keras.layers.Conv2D(28, kernel_size=(3, 3), activation=\"relu\"),\n",
    "        keras.layers.Conv2D(32, kernel_size=(3, 3), activation=\"relu\"),\n",
    "        keras.layers.Conv2D(36, kernel_size=(3, 3), activation=\"relu\"),\n",
    "        keras.layers.Conv2D(40, kernel_size=(3, 3), activation=\"relu\"),\n",
    "        keras.layers.Flatten(),\n",
    "        keras.layers.Dense(10, activation=\"softmax\"),\n",
    "])\n",
    "\n",
    "\n",
    "\n",
    "model1.summary()"
   ]
  },
  {
   "cell_type": "code",
   "execution_count": 91,
   "metadata": {
    "executionInfo": {
     "elapsed": 135,
     "status": "ok",
     "timestamp": 1667347684374,
     "user": {
      "displayName": "Alberto Navarro",
      "userId": "07299865193384909733"
     },
     "user_tz": 300
    },
    "id": "5qyC5_TDqoaH"
   },
   "outputs": [],
   "source": [
    "model1.compile(\n",
    "    optimizer='adam',\n",
    "    loss='sparse_categorical_crossentropy',\n",
    "    metrics=['accuracy'])\n",
    "\n",
    "K.set_value(model1.optimizer.learning_rate, 0.0005)\n"
   ]
  },
  {
   "cell_type": "code",
   "execution_count": 92,
   "metadata": {
    "colab": {
     "base_uri": "https://localhost:8080/"
    },
    "id": "r9yI7G_KAIO1",
    "outputId": "0acba4bc-cfed-4229-b989-0457b87c3c5e"
   },
   "outputs": [
    {
     "name": "stdout",
     "output_type": "stream",
     "text": [
      "Epoch 1/5\n",
      "1875/1875 [==============================] - 16s 8ms/step - loss: 0.0612 - accuracy: 0.9813\n",
      "Epoch 2/5\n",
      "1875/1875 [==============================] - 18s 10ms/step - loss: 0.0583 - accuracy: 0.9815\n",
      "Epoch 3/5\n",
      "1875/1875 [==============================] - 21s 11ms/step - loss: 0.0567 - accuracy: 0.9827\n",
      "Epoch 4/5\n",
      "1875/1875 [==============================] - 21s 11ms/step - loss: 0.0541 - accuracy: 0.9827\n",
      "Epoch 5/5\n",
      "1875/1875 [==============================] - 22s 12ms/step - loss: 0.0522 - accuracy: 0.9840\n"
     ]
    },
    {
     "data": {
      "text/plain": [
       "<keras.callbacks.History at 0x7fe8c4907160>"
      ]
     },
     "execution_count": 92,
     "metadata": {},
     "output_type": "execute_result"
    }
   ],
   "source": [
    "# Define the Keras TensorBoard callback.\n",
    "logdir=\"logs/fit/\" + datetime.now().strftime(\"%Y%m%d-%H%M%S\")\n",
    "tensorboard_callback = keras.callbacks.TensorBoard(log_dir=logdir)\n",
    "\n",
    "# Train the model.\n",
    "model1.fit(\n",
    "    train_images,\n",
    "    train_labels, \n",
    "    batch_size=32,\n",
    "    epochs=5, \n",
    "    callbacks=[tensorboard_callback])"
   ]
  },
  {
   "cell_type": "markdown",
   "metadata": {
    "id": "9L2tB8Z0h7CZ"
   },
   "source": [
    "#### Results"
   ]
  },
  {
   "cell_type": "markdown",
   "metadata": {},
   "source": [
    "#### I will summarize the results based on the optimizer method\n",
    "\n",
    "##### Adam:\n",
    "For this method I tried different combinations of batch size and learning rate. These were the results:\n",
    "\n",
    "##### learning rate = 0.001\n",
    "\n",
    "batch_size = 32, epochs = 5 : Test loss: 6.490649223327637 ---- Test accuracy: 0.9702000021934509\n",
    "\n",
    "batch_size = 64, epochs = 5 : Test loss: 9.572504997253418 ---- Test accuracy: 0.9664000272750854\n",
    "\n",
    "\n",
    "##### learning rate = 0.0005\n",
    "\n",
    "batch_size = 32, epochs = 5 : Test loss: 194.7186737060547 Test accuracy: 0.13249999284744263\n",
    "\n",
    "batch_size = 64, epochs = 5 : Test loss: 185.1067657470703 ---- Test accuracy: 0.14560000598430634\n",
    "\n",
    "\n",
    "##### SGD:\n",
    "For this method I tried different combinations of batch size and learning rate. These were the results:\n",
    "\n",
    "##### learning rate = 0.001\n",
    "\n",
    "batch_size = 32, epochs = 5 : Test loss: 209.14405822753906 ---- Test accuracy: 0.1467999964952469\n",
    "\n",
    "batch_size = 64, epochs = 5 : Test loss: 184.36209106445312 ---- Test accuracy: 0.13920000195503235\n",
    "\n",
    "\n",
    "##### learning rate = 0.0005\n",
    "\n",
    "batch_size = 32, epochs = 5 : Test loss: 159.16867065429688 ---- Test accuracy: 0.1468999981880188\n",
    "\n",
    "batch_size = 64, epochs = 5 : Test loss: 187.08892822265625 ---- Test accuracy: 0.15070000290870667\n",
    "\n",
    "\n",
    "##### RMSProp:\n",
    "For this method I tried different combinations of batch size and learning rate. These were the results:\n",
    "\n",
    "##### learning rate = 0.001\n",
    "\n",
    "batch_size = 32, epochs = 5 : Test loss: 810.2504272460938 ---- Test accuracy: 0.15449999272823334\n",
    "\n",
    "batch_size = 64, epochs = 5 : Test loss: 1778.3662109375 ---- Test accuracy: 0.1468999981880188\n",
    "\n",
    "\n",
    "##### learning rate = 0.0005\n",
    "\n",
    "batch_size = 32, epochs = 5 : Test loss: 2353.105712890625 ---- Test accuracy: 0.14659999310970306\n",
    "\n",
    "batch_size = 64, epochs = 5 : Test loss: 2807.159423828125 ---- Test accuracy: 0.15719999372959137\n",
    "\n"
   ]
  },
  {
   "cell_type": "code",
   "execution_count": 93,
   "metadata": {
    "colab": {
     "base_uri": "https://localhost:8080/"
    },
    "executionInfo": {
     "elapsed": 5585,
     "status": "ok",
     "timestamp": 1667345193106,
     "user": {
      "displayName": "Alberto Navarro",
      "userId": "07299865193384909733"
     },
     "user_tz": 300
    },
    "id": "20VyDP0GAg7F",
    "outputId": "935bf132-e706-4ebe-958a-74a5c160dfa3",
    "scrolled": false
   },
   "outputs": [
    {
     "name": "stdout",
     "output_type": "stream",
     "text": [
      "313/313 [==============================] - 2s 5ms/step - loss: 2335.8582 - accuracy: 0.1546\n",
      "Test loss: 2335.858154296875\n",
      "Test accuracy: 0.15459999442100525\n"
     ]
    }
   ],
   "source": [
    "# Evaluate\n",
    "score = model1.evaluate(test_images, test_labels)\n",
    "print('Test loss:', score[0])\n",
    "print('Test accuracy:', score[1])"
   ]
  },
  {
   "cell_type": "markdown",
   "metadata": {
    "id": "JXOcdrqjAhBR"
   },
   "source": [
    "#### Final Observations"
   ]
  },
  {
   "cell_type": "markdown",
   "metadata": {},
   "source": []
  },
  {
   "cell_type": "markdown",
   "metadata": {
    "id": "N_jBwK0jh8As"
   },
   "source": [
    "### Model 2"
   ]
  },
  {
   "cell_type": "code",
   "execution_count": 44,
   "metadata": {
    "colab": {
     "base_uri": "https://localhost:8080/"
    },
    "executionInfo": {
     "elapsed": 28018,
     "status": "ok",
     "timestamp": 1667345674595,
     "user": {
      "displayName": "Alberto Navarro",
      "userId": "07299865193384909733"
     },
     "user_tz": 300
    },
    "id": "B9QETp4Mh7bd",
    "outputId": "85192168-dbd9-4cc0-e8f1-0601097413f0"
   },
   "outputs": [
    {
     "name": "stdout",
     "output_type": "stream",
     "text": [
      "Model: \"sequential_1\"\n",
      "_________________________________________________________________\n",
      " Layer (type)                Output Shape              Param #   \n",
      "=================================================================\n",
      " conv2d_10 (Conv2D)          (None, 26, 26, 40)        400       \n",
      "                                                                 \n",
      " conv2d_11 (Conv2D)          (None, 24, 24, 36)        12996     \n",
      "                                                                 \n",
      " conv2d_12 (Conv2D)          (None, 22, 22, 32)        10400     \n",
      "                                                                 \n",
      " conv2d_13 (Conv2D)          (None, 20, 20, 28)        8092      \n",
      "                                                                 \n",
      " conv2d_14 (Conv2D)          (None, 18, 18, 24)        6072      \n",
      "                                                                 \n",
      " conv2d_15 (Conv2D)          (None, 16, 16, 20)        4340      \n",
      "                                                                 \n",
      " conv2d_16 (Conv2D)          (None, 14, 14, 16)        2896      \n",
      "                                                                 \n",
      " conv2d_17 (Conv2D)          (None, 12, 12, 12)        1740      \n",
      "                                                                 \n",
      " conv2d_18 (Conv2D)          (None, 10, 10, 8)         872       \n",
      "                                                                 \n",
      " conv2d_19 (Conv2D)          (None, 8, 8, 4)           292       \n",
      "                                                                 \n",
      " flatten_1 (Flatten)         (None, 256)               0         \n",
      "                                                                 \n",
      " dense_1 (Dense)             (None, 10)                2570      \n",
      "                                                                 \n",
      "=================================================================\n",
      "Total params: 50,670\n",
      "Trainable params: 50,670\n",
      "Non-trainable params: 0\n",
      "_________________________________________________________________\n"
     ]
    }
   ],
   "source": [
    "# Sequential Model\n",
    "model2 = keras.models.Sequential([\n",
    "        keras.Input(shape=(28,28,1)),\n",
    "        keras.layers.Conv2D(40, kernel_size=(3, 3), activation=\"relu\"),\n",
    "        keras.layers.Conv2D(36, kernel_size=(3, 3), activation=\"relu\"),\n",
    "        keras.layers.Conv2D(32, kernel_size=(3, 3), activation=\"relu\"),\n",
    "        keras.layers.Conv2D(28, kernel_size=(3, 3), activation=\"relu\"),\n",
    "        keras.layers.Conv2D(24, kernel_size=(3, 3), activation=\"relu\"),\n",
    "        keras.layers.Conv2D(20, kernel_size=(3, 3), activation=\"relu\"),\n",
    "        keras.layers.Conv2D(16, kernel_size=(3, 3), activation=\"relu\"),\n",
    "        keras.layers.Conv2D(12, kernel_size=(3, 3), activation=\"relu\"),\n",
    "        keras.layers.Conv2D(8, kernel_size=(3, 3), activation=\"relu\"),\n",
    "        keras.layers.Conv2D(4, kernel_size=(3, 3), activation=\"relu\"),\n",
    "        keras.layers.Flatten(),\n",
    "        keras.layers.Dense(10, activation=\"softmax\"),\n",
    "])\n",
    "\n",
    "\n",
    "model2.summary()"
   ]
  },
  {
   "cell_type": "code",
   "execution_count": 81,
   "metadata": {
    "id": "3tQ7I37Bh-Py"
   },
   "outputs": [],
   "source": [
    "model2.compile(\n",
    "    optimizer='RMSprop',\n",
    "    loss='sparse_categorical_crossentropy',\n",
    "    metrics=['accuracy'])\n",
    "\n",
    "K.set_value(model2.optimizer.learning_rate, 0.0005)\n"
   ]
  },
  {
   "cell_type": "code",
   "execution_count": 82,
   "metadata": {
    "id": "qJ4K2vVriWut",
    "scrolled": true
   },
   "outputs": [
    {
     "name": "stdout",
     "output_type": "stream",
     "text": [
      "Epoch 1/5\n",
      "938/938 [==============================] - 43s 46ms/step - loss: 0.0063 - accuracy: 0.9984\n",
      "Epoch 2/5\n",
      "938/938 [==============================] - 43s 46ms/step - loss: 0.0039 - accuracy: 0.9989\n",
      "Epoch 3/5\n",
      "938/938 [==============================] - 40s 42ms/step - loss: 0.0034 - accuracy: 0.9991\n",
      "Epoch 4/5\n",
      "938/938 [==============================] - 40s 42ms/step - loss: 0.0042 - accuracy: 0.9989\n",
      "Epoch 5/5\n",
      "938/938 [==============================] - 44s 46ms/step - loss: 0.0037 - accuracy: 0.9992\n"
     ]
    },
    {
     "data": {
      "text/plain": [
       "<keras.callbacks.History at 0x7fe7f4ed9ea0>"
      ]
     },
     "execution_count": 82,
     "metadata": {},
     "output_type": "execute_result"
    }
   ],
   "source": [
    "# Define the Keras TensorBoard callback.\n",
    "logdir=\"logs/fit/\" + datetime.now().strftime(\"%Y%m%d-%H%M%S\")\n",
    "tensorboard_callback = keras.callbacks.TensorBoard(log_dir=logdir)\n",
    "\n",
    "# Train the model.\n",
    "model2.fit(\n",
    "    train_images,\n",
    "    train_labels, \n",
    "    batch_size=64,\n",
    "    epochs=5, \n",
    "    callbacks=[tensorboard_callback])"
   ]
  },
  {
   "cell_type": "markdown",
   "metadata": {},
   "source": [
    "#### Observations"
   ]
  },
  {
   "cell_type": "markdown",
   "metadata": {},
   "source": [
    "#### I will summarize the results based on the optimizer method\n",
    "\n",
    "##### Adam:\n",
    "For this method I tried different combinations of batch size and learning rate. These were the results:\n",
    "\n",
    "##### learning rate = 0.001\n",
    "\n",
    "batch_size = 32, epochs = 5 : Test loss: 6.4124321937561035 ---- Test accuracy: 0.9718999862670898\n",
    "\n",
    "batch_size = 64, epochs = 5 : Test loss: 8.255528450012207 ---- Test accuracy: 0.9638000130653381\n",
    "\n",
    "\n",
    "##### learning rate = 0.0005\n",
    "\n",
    "batch_size = 32, epochs = 5 : Test loss: 16.019819259643555 ---- Test accuracy: 0.9602000117301941\n",
    "\n",
    "batch_size = 64, epochs = 5 : Test loss: 14.98194408416748 ---- Test accuracy: 0.9707000255584717\n",
    "\n",
    "\n",
    "##### SGD:\n",
    "For this method I tried different combinations of batch size and learning rate. These were the results:\n",
    "\n",
    "##### learning rate = 0.001\n",
    "\n",
    "batch_size = 32, epochs = 5 : Test loss: 11.841575622558594 ---- Test accuracy: 0.979200005531311\n",
    "\n",
    "batch_size = 64, epochs = 5 : Test loss: 12.16141414642334 ---- Test accuracy: 0.979200005531311\n",
    "\n",
    "\n",
    "##### learning rate = 0.0005\n",
    "\n",
    "batch_size = 32, epochs = 5 : Test loss: 12.396894454956055 ---- Test accuracy: 0.9793000221252441\n",
    "\n",
    "batch_size = 64, epochs = 5 : Test loss: 12.465036392211914 ---- Test accuracy: 0.979200005531311\n",
    "\n",
    "\n",
    "##### RMSProp:\n",
    "For this method I tried different combinations of batch size and learning rate. These were the results:\n",
    "\n",
    "##### learning rate = 0.001\n",
    "\n",
    "batch_size = 32, epochs = 5 : Test loss: 15.826443672180176 ---- Test accuracy: 0.9598000049591064\n",
    "\n",
    "batch_size = 64, epochs = 5 : Test loss: 36.027587890625 ---- Test accuracy: 0.9584000110626221\n",
    "\n",
    "\n",
    "##### learning rate = 0.0005\n",
    "\n",
    "batch_size = 32, epochs = 5 : Test loss: 37.842185974121094 ---- Test accuracy: 0.9768000245094299\n",
    "\n",
    "batch_size = 64, epochs = 5 : Test loss: 37.7193717956543 ---- Test accuracy: 0.9805999994277954"
   ]
  },
  {
   "cell_type": "code",
   "execution_count": 83,
   "metadata": {
    "id": "3UWZMX4GiW_t"
   },
   "outputs": [
    {
     "name": "stdout",
     "output_type": "stream",
     "text": [
      "313/313 [==============================] - 4s 13ms/step - loss: 37.7194 - accuracy: 0.9806\n",
      "Test loss: 37.7193717956543\n",
      "Test accuracy: 0.9805999994277954\n"
     ]
    }
   ],
   "source": [
    "# Evaluate\n",
    "score = model2.evaluate(test_images, test_labels)\n",
    "print('Test loss:', score[0])\n",
    "print('Test accuracy:', score[1])"
   ]
  },
  {
   "cell_type": "markdown",
   "metadata": {},
   "source": [
    "#### Final Observations"
   ]
  },
  {
   "cell_type": "markdown",
   "metadata": {},
   "source": []
  },
  {
   "cell_type": "markdown",
   "metadata": {
    "id": "DugttsffiXza"
   },
   "source": [
    "### Model 3"
   ]
  },
  {
   "cell_type": "code",
   "execution_count": 84,
   "metadata": {
    "colab": {
     "base_uri": "https://localhost:8080/"
    },
    "executionInfo": {
     "elapsed": 200,
     "status": "ok",
     "timestamp": 1667345674787,
     "user": {
      "displayName": "Alberto Navarro",
      "userId": "07299865193384909733"
     },
     "user_tz": 300
    },
    "id": "dMUfG8mfiXQw",
    "outputId": "e58ff701-1c60-400d-bef7-b19239c64801"
   },
   "outputs": [
    {
     "name": "stdout",
     "output_type": "stream",
     "text": [
      "Model: \"sequential_2\"\n",
      "_________________________________________________________________\n",
      " Layer (type)                Output Shape              Param #   \n",
      "=================================================================\n",
      " conv2d_20 (Conv2D)          (None, 26, 26, 4)         40        \n",
      "                                                                 \n",
      " conv2d_21 (Conv2D)          (None, 24, 24, 8)         296       \n",
      "                                                                 \n",
      " conv2d_22 (Conv2D)          (None, 22, 22, 12)        876       \n",
      "                                                                 \n",
      " conv2d_23 (Conv2D)          (None, 20, 20, 16)        1744      \n",
      "                                                                 \n",
      " conv2d_24 (Conv2D)          (None, 18, 18, 20)        2900      \n",
      "                                                                 \n",
      " conv2d_25 (Conv2D)          (None, 16, 16, 24)        4344      \n",
      "                                                                 \n",
      " conv2d_26 (Conv2D)          (None, 14, 14, 20)        4340      \n",
      "                                                                 \n",
      " conv2d_27 (Conv2D)          (None, 12, 12, 16)        2896      \n",
      "                                                                 \n",
      " conv2d_28 (Conv2D)          (None, 10, 10, 12)        1740      \n",
      "                                                                 \n",
      " conv2d_29 (Conv2D)          (None, 8, 8, 8)           872       \n",
      "                                                                 \n",
      " flatten_2 (Flatten)         (None, 512)               0         \n",
      "                                                                 \n",
      " dense_2 (Dense)             (None, 10)                5130      \n",
      "                                                                 \n",
      "=================================================================\n",
      "Total params: 25,178\n",
      "Trainable params: 25,178\n",
      "Non-trainable params: 0\n",
      "_________________________________________________________________\n"
     ]
    }
   ],
   "source": [
    "# Sequential Model\n",
    "model3 = keras.models.Sequential([\n",
    "        keras.Input(shape=(28,28,1)),\n",
    "        keras.layers.Conv2D(4, kernel_size=(3, 3), activation=\"relu\"),\n",
    "        keras.layers.Conv2D(8, kernel_size=(3, 3), activation=\"relu\"),\n",
    "        keras.layers.Conv2D(12, kernel_size=(3, 3), activation=\"relu\"),\n",
    "        keras.layers.Conv2D(16, kernel_size=(3, 3), activation=\"relu\"),\n",
    "        keras.layers.Conv2D(20, kernel_size=(3, 3), activation=\"relu\"),\n",
    "        keras.layers.Conv2D(24, kernel_size=(3, 3), activation=\"relu\"),\n",
    "        keras.layers.Conv2D(20, kernel_size=(3, 3), activation=\"relu\"),\n",
    "        keras.layers.Conv2D(16, kernel_size=(3, 3), activation=\"relu\"),\n",
    "        keras.layers.Conv2D(12, kernel_size=(3, 3), activation=\"relu\"),\n",
    "        keras.layers.Conv2D(8, kernel_size=(3, 3), activation=\"relu\"),\n",
    "        keras.layers.Flatten(),\n",
    "        keras.layers.Dense(10, activation=\"softmax\"),\n",
    "])\n",
    "\n",
    "\n",
    "\n",
    "model3.summary()"
   ]
  },
  {
   "cell_type": "code",
   "execution_count": 121,
   "metadata": {},
   "outputs": [],
   "source": [
    "model3.compile(\n",
    "    optimizer='RMSprop',\n",
    "    loss='sparse_categorical_crossentropy',\n",
    "    metrics=['accuracy'])\n",
    "\n",
    "K.set_value(model3.optimizer.learning_rate, 0.0005)"
   ]
  },
  {
   "cell_type": "code",
   "execution_count": 122,
   "metadata": {},
   "outputs": [
    {
     "name": "stdout",
     "output_type": "stream",
     "text": [
      "Epoch 1/5\n",
      "938/938 [==============================] - 12s 12ms/step - loss: 0.0060 - accuracy: 0.9984\n",
      "Epoch 2/5\n",
      "938/938 [==============================] - 14s 15ms/step - loss: 0.0044 - accuracy: 0.9990\n",
      "Epoch 3/5\n",
      "938/938 [==============================] - 14s 15ms/step - loss: 0.0042 - accuracy: 0.9990\n",
      "Epoch 4/5\n",
      "938/938 [==============================] - 14s 15ms/step - loss: 0.0045 - accuracy: 0.9988\n",
      "Epoch 5/5\n",
      "938/938 [==============================] - 14s 15ms/step - loss: 0.0044 - accuracy: 0.9990\n"
     ]
    },
    {
     "data": {
      "text/plain": [
       "<keras.callbacks.History at 0x7fe6df8cbf70>"
      ]
     },
     "execution_count": 122,
     "metadata": {},
     "output_type": "execute_result"
    }
   ],
   "source": [
    "# Define the Keras TensorBoard callback.\n",
    "logdir=\"logs/fit/\" + datetime.now().strftime(\"%Y%m%d-%H%M%S\")\n",
    "tensorboard_callback = keras.callbacks.TensorBoard(log_dir=logdir)\n",
    "\n",
    "# Train the model.\n",
    "model3.fit(\n",
    "    train_images,\n",
    "    train_labels, \n",
    "    batch_size=64,\n",
    "    epochs=5, \n",
    "    callbacks=[tensorboard_callback])"
   ]
  },
  {
   "cell_type": "markdown",
   "metadata": {},
   "source": [
    "#### Observations"
   ]
  },
  {
   "cell_type": "markdown",
   "metadata": {},
   "source": [
    "#### I will summarize the results based on the optimizer method\n",
    "\n",
    "##### Adam:\n",
    "For this method I tried different combinations of batch size and learning rate. These were the results:\n",
    "\n",
    "##### learning rate = 0.001\n",
    "\n",
    "batch_size = 32, epochs = 5 : Test loss: 7.333022594451904 ---- Test accuracy: 0.9681000113487244\n",
    "\n",
    "batch_size = 64, epochs = 5 : Test loss: 18.73436164855957 ---- Test accuracy: 0.9402999877929688\n",
    "\n",
    "\n",
    "##### learning rate = 0.0005\n",
    "\n",
    "batch_size = 32, epochs = 5 : Test loss: 13.888640403747559 ---- Test accuracy: 0.9501000046730042\n",
    "\n",
    "batch_size = 64, epochs = 5 : Test loss: 18.489398956298828 ---- Test accuracy: 0.9591000080108643\n",
    "\n",
    "\n",
    "##### SGD:\n",
    "For this method I tried different combinations of batch size and learning rate. These were the results:\n",
    "\n",
    "##### learning rate = 0.001\n",
    "\n",
    "batch_size = 32, epochs = 5 : Test loss: 15.506414413452148 ---- Test accuracy: 0.968500018119812\n",
    "\n",
    "batch_size = 64, epochs = 5 : Test loss: 15.83298397064209 ---- Test accuracy: 0.9690999984741211\n",
    "\n",
    "\n",
    "##### learning rate = 0.0005\n",
    "\n",
    "batch_size = 32, epochs = 5 : Test loss: 16.004711151123047 ---- Test accuracy: 0.9693999886512756\n",
    "\n",
    "batch_size = 64, epochs = 5 : Test loss: 16.097017288208008 ---- Test accuracy: 0.9696000218391418\n",
    "\n",
    "\n",
    "##### RMSProp:\n",
    "For this method I tried different combinations of batch size and learning rate. These were the results:\n",
    "\n",
    "##### learning rate = 0.001\n",
    "\n",
    "batch_size = 32, epochs = 5 : Test loss: 54.20248794555664 ---- Test accuracy: 0.8810999989509583\n",
    "\n",
    "batch_size = 64, epochs = 5 : Test loss: 36.41796875 ---- Test accuracy: 0.9447000026702881\n",
    "\n",
    "\n",
    "##### learning rate = 0.0005\n",
    "\n",
    "batch_size = 32, epochs = 5 : Test loss: 69.07653045654297 ---- Test accuracy: 0.9448000192642212\n",
    "\n",
    "batch_size = 64, epochs = 5 : Test loss: 76.99116516113281 ---- Test accuracy: 0.9491000175476074"
   ]
  },
  {
   "cell_type": "code",
   "execution_count": 123,
   "metadata": {},
   "outputs": [
    {
     "name": "stdout",
     "output_type": "stream",
     "text": [
      "313/313 [==============================] - 1s 4ms/step - loss: 76.9912 - accuracy: 0.9491\n",
      "Test loss: 76.99116516113281\n",
      "Test accuracy: 0.9491000175476074\n"
     ]
    }
   ],
   "source": [
    "# Evaluate\n",
    "score = model3.evaluate(test_images, test_labels)\n",
    "print('Test loss:', score[0])\n",
    "print('Test accuracy:', score[1])"
   ]
  },
  {
   "cell_type": "markdown",
   "metadata": {},
   "source": [
    "#### Final Observations"
   ]
  },
  {
   "cell_type": "markdown",
   "metadata": {},
   "source": []
  },
  {
   "cell_type": "markdown",
   "metadata": {
    "id": "XSXJwtX28smS"
   },
   "source": [
    "# Question 2"
   ]
  },
  {
   "cell_type": "code",
   "execution_count": 4,
   "metadata": {
    "colab": {
     "base_uri": "https://localhost:8080/"
    },
    "executionInfo": {
     "elapsed": 6561,
     "status": "ok",
     "timestamp": 1667247104525,
     "user": {
      "displayName": "Alberto Navarro",
      "userId": "07299865193384909733"
     },
     "user_tz": 300
    },
    "id": "tE4cYwXn8mLx",
    "outputId": "53d67ff4-a382-43a0-82ab-499e98d52ad1"
   },
   "outputs": [
    {
     "data": {
      "text/plain": [
       "array([[0., 0., 0., ..., 0., 0., 0.],\n",
       "       [0., 0., 0., ..., 0., 0., 1.],\n",
       "       [0., 0., 0., ..., 0., 0., 1.],\n",
       "       ...,\n",
       "       [0., 0., 0., ..., 0., 0., 1.],\n",
       "       [0., 1., 0., ..., 0., 0., 0.],\n",
       "       [0., 1., 0., ..., 0., 0., 0.]], dtype=float32)"
      ]
     },
     "execution_count": 4,
     "metadata": {},
     "output_type": "execute_result"
    }
   ],
   "source": [
    "(x_train, y_train), (x_test, y_test) = keras.datasets.cifar10.load_data()\n",
    "assert x_train.shape == (50000, 32, 32, 3)\n",
    "assert x_test.shape == (10000, 32, 32, 3)\n",
    "assert y_train.shape == (50000, 1)\n",
    "assert y_test.shape == (10000, 1)\n",
    "\n",
    "x_train = x_train / 255.0\n",
    "tf.keras.utils.to_categorical(y_train)"
   ]
  },
  {
   "cell_type": "code",
   "execution_count": 5,
   "metadata": {
    "id": "drU9V5u38mrc"
   },
   "outputs": [
    {
     "name": "stdout",
     "output_type": "stream",
     "text": [
      "Model: \"sequential\"\n",
      "_________________________________________________________________\n",
      " Layer (type)                Output Shape              Param #   \n",
      "=================================================================\n",
      " conv2d (Conv2D)             (None, 28, 28, 6)         456       \n",
      "                                                                 \n",
      " max_pooling2d (MaxPooling2D  (None, 14, 14, 6)        0         \n",
      " )                                                               \n",
      "                                                                 \n",
      " conv2d_1 (Conv2D)           (None, 10, 10, 16)        2416      \n",
      "                                                                 \n",
      " max_pooling2d_1 (MaxPooling  (None, 5, 5, 16)         0         \n",
      " 2D)                                                             \n",
      "                                                                 \n",
      " conv2d_2 (Conv2D)           (None, 1, 1, 120)         48120     \n",
      "                                                                 \n",
      " flatten (Flatten)           (None, 120)               0         \n",
      "                                                                 \n",
      " dense (Dense)               (None, 84)                10164     \n",
      "                                                                 \n",
      " dense_1 (Dense)             (None, 10)                850       \n",
      "                                                                 \n",
      "=================================================================\n",
      "Total params: 62,006\n",
      "Trainable params: 62,006\n",
      "Non-trainable params: 0\n",
      "_________________________________________________________________\n"
     ]
    },
    {
     "name": "stderr",
     "output_type": "stream",
     "text": [
      "2022-11-02 00:37:53.366119: E tensorflow/stream_executor/cuda/cuda_driver.cc:271] failed call to cuInit: CUDA_ERROR_NO_DEVICE: no CUDA-capable device is detected\n",
      "2022-11-02 00:37:53.366170: I tensorflow/stream_executor/cuda/cuda_diagnostics.cc:156] kernel driver does not appear to be running on this host (alberto-Inspiron): /proc/driver/nvidia/version does not exist\n",
      "2022-11-02 00:37:53.368606: I tensorflow/core/platform/cpu_feature_guard.cc:193] This TensorFlow binary is optimized with oneAPI Deep Neural Network Library (oneDNN) to use the following CPU instructions in performance-critical operations:  AVX2 AVX512F AVX512_VNNI FMA\n",
      "To enable them in other operations, rebuild TensorFlow with the appropriate compiler flags.\n"
     ]
    }
   ],
   "source": [
    "model = keras.Sequential()\n",
    "\n",
    "model.add(keras.layers.Conv2D(filters=6, kernel_size=(5, 5), strides=(1, 1), activation='relu', input_shape=(32,32,3)))\n",
    "model.add(keras.layers.MaxPooling2D(pool_size=(2, 2), strides=(2,2)))\n",
    "model.add(keras.layers.Conv2D(filters=16, kernel_size=(5, 5), strides=(1, 1), activation='relu'))\n",
    "model.add(keras.layers.MaxPooling2D(pool_size=(2, 2), strides=(2,2)))\n",
    "model.add(keras.layers.Conv2D(filters=120, kernel_size=(5, 5), activation='relu'))\n",
    "model.add(keras.layers.Flatten())\n",
    "model.add(keras.layers.Dense(units=84, activation='relu'))\n",
    "model.add(keras.layers.Dense(units=10, activation = 'softmax'))\n",
    "\n",
    "model.summary()"
   ]
  },
  {
   "cell_type": "code",
   "execution_count": 10,
   "metadata": {},
   "outputs": [],
   "source": [
    "model.compile(\n",
    "    optimizer='adam',\n",
    "    loss='sparse_categorical_crossentropy',\n",
    "    metrics=['accuracy'])\n",
    "\n",
    "K.set_value(model.optimizer.learning_rate, 0.001)"
   ]
  },
  {
   "cell_type": "code",
   "execution_count": 15,
   "metadata": {},
   "outputs": [
    {
     "name": "stdout",
     "output_type": "stream",
     "text": [
      "Epoch 1/25\n",
      "391/391 [==============================] - 2s 5ms/step - loss: 0.4771 - accuracy: 0.8305\n",
      "Epoch 2/25\n",
      "391/391 [==============================] - 2s 6ms/step - loss: 0.4701 - accuracy: 0.8345\n",
      "Epoch 3/25\n",
      "391/391 [==============================] - 2s 6ms/step - loss: 0.4692 - accuracy: 0.8341\n",
      "Epoch 4/25\n",
      "391/391 [==============================] - 3s 7ms/step - loss: 0.4683 - accuracy: 0.8333\n",
      "Epoch 5/25\n",
      "391/391 [==============================] - 3s 7ms/step - loss: 0.4645 - accuracy: 0.8336\n",
      "Epoch 6/25\n",
      "391/391 [==============================] - 3s 7ms/step - loss: 0.4683 - accuracy: 0.8325\n",
      "Epoch 7/25\n",
      "391/391 [==============================] - 3s 7ms/step - loss: 0.4594 - accuracy: 0.8348\n",
      "Epoch 8/25\n",
      "391/391 [==============================] - 3s 7ms/step - loss: 0.4571 - accuracy: 0.8361\n",
      "Epoch 9/25\n",
      "391/391 [==============================] - 3s 7ms/step - loss: 0.4563 - accuracy: 0.8366\n",
      "Epoch 10/25\n",
      "391/391 [==============================] - 3s 7ms/step - loss: 0.4484 - accuracy: 0.8402\n",
      "Epoch 11/25\n",
      "391/391 [==============================] - 3s 7ms/step - loss: 0.4423 - accuracy: 0.8422\n",
      "Epoch 12/25\n",
      "391/391 [==============================] - 3s 7ms/step - loss: 0.4409 - accuracy: 0.8414\n",
      "Epoch 13/25\n",
      "391/391 [==============================] - 3s 7ms/step - loss: 0.4317 - accuracy: 0.8437\n",
      "Epoch 14/25\n",
      "391/391 [==============================] - 3s 7ms/step - loss: 0.4271 - accuracy: 0.8461\n",
      "Epoch 15/25\n",
      "391/391 [==============================] - 3s 7ms/step - loss: 0.4229 - accuracy: 0.8476\n",
      "Epoch 16/25\n",
      "391/391 [==============================] - 3s 7ms/step - loss: 0.4314 - accuracy: 0.8444\n",
      "Epoch 17/25\n",
      "391/391 [==============================] - 3s 7ms/step - loss: 0.4180 - accuracy: 0.8501\n",
      "Epoch 18/25\n",
      "391/391 [==============================] - 3s 7ms/step - loss: 0.4121 - accuracy: 0.8504\n",
      "Epoch 19/25\n",
      "391/391 [==============================] - 3s 7ms/step - loss: 0.4072 - accuracy: 0.8530\n",
      "Epoch 20/25\n",
      "391/391 [==============================] - 3s 7ms/step - loss: 0.4072 - accuracy: 0.8534\n",
      "Epoch 21/25\n",
      "391/391 [==============================] - 3s 7ms/step - loss: 0.3986 - accuracy: 0.8563\n",
      "Epoch 22/25\n",
      "391/391 [==============================] - 3s 7ms/step - loss: 0.4016 - accuracy: 0.8549\n",
      "Epoch 23/25\n",
      "391/391 [==============================] - 3s 7ms/step - loss: 0.3900 - accuracy: 0.8602\n",
      "Epoch 24/25\n",
      "391/391 [==============================] - 3s 7ms/step - loss: 0.3856 - accuracy: 0.8617\n",
      "Epoch 25/25\n",
      "391/391 [==============================] - 3s 7ms/step - loss: 0.3807 - accuracy: 0.8626\n"
     ]
    },
    {
     "data": {
      "text/plain": [
       "<keras.callbacks.History at 0x7f6c43787be0>"
      ]
     },
     "execution_count": 15,
     "metadata": {},
     "output_type": "execute_result"
    }
   ],
   "source": [
    "# Define the Keras TensorBoard callback.\n",
    "logdir=\"logs/fit/\" + datetime.now().strftime(\"%Y%m%d-%H%M%S\")\n",
    "tensorboard_callback = keras.callbacks.TensorBoard(log_dir=logdir)\n",
    "\n",
    "# Train the model.\n",
    "model.fit(\n",
    "    x_train,\n",
    "    y_train, \n",
    "    batch_size=128,\n",
    "    epochs=25, \n",
    "    callbacks=[tensorboard_callback])"
   ]
  },
  {
   "cell_type": "code",
   "execution_count": 16,
   "metadata": {},
   "outputs": [
    {
     "name": "stdout",
     "output_type": "stream",
     "text": [
      "313/313 [==============================] - 1s 2ms/step - loss: 667.9209 - accuracy: 0.4839\n",
      "Test loss: 667.9208984375\n",
      "Test accuracy: 0.4839000105857849\n"
     ]
    }
   ],
   "source": [
    "# Evaluate\n",
    "score = model.evaluate(x_test, y_test)\n",
    "print('Test loss:', score[0])\n",
    "print('Test accuracy:', score[1])"
   ]
  },
  {
   "cell_type": "markdown",
   "metadata": {},
   "source": [
    "### What is the effect of learning rate on the training process? Which performed best?"
   ]
  },
  {
   "cell_type": "code",
   "execution_count": 14,
   "metadata": {},
   "outputs": [
    {
     "name": "stdout",
     "output_type": "stream",
     "text": [
      "Epoch 1/25\n",
      "49/49 [==============================] - 2s 34ms/step - loss: 1.2991 - accuracy: 0.5682\n",
      "Epoch 2/25\n",
      "49/49 [==============================] - 2s 34ms/step - loss: 0.9467 - accuracy: 0.6678\n",
      "Epoch 3/25\n",
      "49/49 [==============================] - 2s 36ms/step - loss: 0.9332 - accuracy: 0.6733\n",
      "Epoch 4/25\n",
      "49/49 [==============================] - 2s 37ms/step - loss: 0.9349 - accuracy: 0.6750\n",
      "Epoch 5/25\n",
      "49/49 [==============================] - 2s 38ms/step - loss: 0.9179 - accuracy: 0.6782\n",
      "Epoch 6/25\n",
      "49/49 [==============================] - 2s 36ms/step - loss: 0.9344 - accuracy: 0.6728\n",
      "Epoch 7/25\n",
      "49/49 [==============================] - 2s 35ms/step - loss: 0.9209 - accuracy: 0.6785\n",
      "Epoch 8/25\n",
      "49/49 [==============================] - 2s 35ms/step - loss: 0.9271 - accuracy: 0.6750\n",
      "Epoch 9/25\n",
      "49/49 [==============================] - 2s 36ms/step - loss: 0.9093 - accuracy: 0.6852\n",
      "Epoch 10/25\n",
      "49/49 [==============================] - 2s 36ms/step - loss: 0.9124 - accuracy: 0.6820\n",
      "Epoch 11/25\n",
      "49/49 [==============================] - 2s 37ms/step - loss: 0.9041 - accuracy: 0.6841\n",
      "Epoch 12/25\n",
      "49/49 [==============================] - 2s 38ms/step - loss: 0.8988 - accuracy: 0.6865\n",
      "Epoch 13/25\n",
      "49/49 [==============================] - 2s 34ms/step - loss: 0.9030 - accuracy: 0.6844\n",
      "Epoch 14/25\n",
      "49/49 [==============================] - 2s 38ms/step - loss: 0.9031 - accuracy: 0.6854\n",
      "Epoch 15/25\n",
      "49/49 [==============================] - 2s 36ms/step - loss: 0.8933 - accuracy: 0.6876\n",
      "Epoch 16/25\n",
      "49/49 [==============================] - 2s 34ms/step - loss: 0.8898 - accuracy: 0.6884\n",
      "Epoch 17/25\n",
      "49/49 [==============================] - 2s 37ms/step - loss: 0.8874 - accuracy: 0.6911\n",
      "Epoch 18/25\n",
      "49/49 [==============================] - 2s 37ms/step - loss: 0.8732 - accuracy: 0.6957\n",
      "Epoch 19/25\n",
      "49/49 [==============================] - 2s 36ms/step - loss: 0.8654 - accuracy: 0.6987\n",
      "Epoch 20/25\n",
      "49/49 [==============================] - 2s 35ms/step - loss: 0.8702 - accuracy: 0.6955\n",
      "Epoch 21/25\n",
      "49/49 [==============================] - 2s 39ms/step - loss: 0.8663 - accuracy: 0.6968\n",
      "Epoch 22/25\n",
      "49/49 [==============================] - 2s 38ms/step - loss: 0.8715 - accuracy: 0.6936\n",
      "Epoch 23/25\n",
      "49/49 [==============================] - 2s 37ms/step - loss: 0.8664 - accuracy: 0.6955\n",
      "Epoch 24/25\n",
      "49/49 [==============================] - 2s 37ms/step - loss: 0.8532 - accuracy: 0.7018\n",
      "Epoch 25/25\n",
      "49/49 [==============================] - 2s 38ms/step - loss: 0.8568 - accuracy: 0.7002\n",
      "313/313 [==============================] - 0s 1ms/step - loss: 306.0904 - accuracy: 0.4733\n",
      "Epoch 1/25\n",
      "49/49 [==============================] - 2s 38ms/step - loss: 2.0660 - accuracy: 0.3886\n",
      "Epoch 2/25\n",
      "49/49 [==============================] - 2s 37ms/step - loss: 1.2624 - accuracy: 0.5517\n",
      "Epoch 3/25\n",
      "49/49 [==============================] - 2s 46ms/step - loss: 1.0951 - accuracy: 0.6105\n",
      "Epoch 4/25\n",
      "49/49 [==============================] - 2s 47ms/step - loss: 1.0238 - accuracy: 0.6384\n",
      "Epoch 5/25\n",
      "49/49 [==============================] - 2s 48ms/step - loss: 0.9914 - accuracy: 0.6509\n",
      "Epoch 6/25\n",
      "49/49 [==============================] - 2s 46ms/step - loss: 0.9687 - accuracy: 0.6607\n",
      "Epoch 7/25\n",
      "49/49 [==============================] - 2s 46ms/step - loss: 0.9533 - accuracy: 0.6642\n",
      "Epoch 8/25\n",
      "49/49 [==============================] - 2s 47ms/step - loss: 0.9180 - accuracy: 0.6781\n",
      "Epoch 9/25\n",
      "49/49 [==============================] - 2s 45ms/step - loss: 0.9241 - accuracy: 0.6756\n",
      "Epoch 10/25\n",
      "49/49 [==============================] - 2s 46ms/step - loss: 0.9085 - accuracy: 0.6812\n",
      "Epoch 11/25\n",
      "49/49 [==============================] - 2s 43ms/step - loss: 0.8872 - accuracy: 0.6900\n",
      "Epoch 12/25\n",
      "49/49 [==============================] - 2s 45ms/step - loss: 0.8687 - accuracy: 0.6961\n",
      "Epoch 13/25\n",
      "49/49 [==============================] - 2s 44ms/step - loss: 0.8693 - accuracy: 0.6946\n",
      "Epoch 14/25\n",
      "49/49 [==============================] - 2s 46ms/step - loss: 0.8523 - accuracy: 0.7008\n",
      "Epoch 15/25\n",
      "49/49 [==============================] - 2s 46ms/step - loss: 0.8264 - accuracy: 0.7110\n",
      "Epoch 16/25\n",
      "49/49 [==============================] - 2s 46ms/step - loss: 0.8362 - accuracy: 0.7062\n",
      "Epoch 17/25\n",
      "49/49 [==============================] - 2s 47ms/step - loss: 0.8193 - accuracy: 0.7142\n",
      "Epoch 18/25\n",
      "49/49 [==============================] - 2s 48ms/step - loss: 0.8160 - accuracy: 0.7124\n",
      "Epoch 19/25\n",
      "49/49 [==============================] - 2s 45ms/step - loss: 0.8042 - accuracy: 0.7176\n",
      "Epoch 20/25\n",
      "49/49 [==============================] - 2s 46ms/step - loss: 0.7843 - accuracy: 0.7254\n",
      "Epoch 21/25\n",
      "49/49 [==============================] - 2s 47ms/step - loss: 0.7841 - accuracy: 0.7244\n",
      "Epoch 22/25\n",
      "49/49 [==============================] - 2s 49ms/step - loss: 0.7710 - accuracy: 0.7289\n",
      "Epoch 23/25\n",
      "49/49 [==============================] - 2s 51ms/step - loss: 0.7618 - accuracy: 0.7341\n",
      "Epoch 24/25\n",
      "49/49 [==============================] - 2s 49ms/step - loss: 0.7625 - accuracy: 0.7333\n",
      "Epoch 25/25\n",
      "49/49 [==============================] - 2s 45ms/step - loss: 0.7501 - accuracy: 0.7391\n",
      "313/313 [==============================] - 1s 2ms/step - loss: 330.8011 - accuracy: 0.4864\n",
      "Epoch 1/25\n",
      "49/49 [==============================] - 3s 46ms/step - loss: 1.8468 - accuracy: 0.4551\n",
      "Epoch 2/25\n",
      "49/49 [==============================] - 2s 47ms/step - loss: 1.0827 - accuracy: 0.6162\n",
      "Epoch 3/25\n",
      "49/49 [==============================] - 2s 45ms/step - loss: 0.9005 - accuracy: 0.6820\n",
      "Epoch 4/25\n",
      "49/49 [==============================] - 2s 44ms/step - loss: 0.8456 - accuracy: 0.7012\n",
      "Epoch 5/25\n",
      "49/49 [==============================] - 2s 46ms/step - loss: 0.8187 - accuracy: 0.7090\n",
      "Epoch 6/25\n",
      "49/49 [==============================] - 2s 47ms/step - loss: 0.7909 - accuracy: 0.7203\n",
      "Epoch 7/25\n",
      "49/49 [==============================] - 2s 47ms/step - loss: 0.7803 - accuracy: 0.7260\n",
      "Epoch 8/25\n",
      "49/49 [==============================] - 2s 45ms/step - loss: 0.7566 - accuracy: 0.7353\n",
      "Epoch 9/25\n",
      "49/49 [==============================] - 2s 46ms/step - loss: 0.7479 - accuracy: 0.7375\n",
      "Epoch 10/25\n",
      "49/49 [==============================] - 2s 46ms/step - loss: 0.7240 - accuracy: 0.7469\n",
      "Epoch 11/25\n",
      "49/49 [==============================] - 2s 47ms/step - loss: 0.7190 - accuracy: 0.7479\n",
      "Epoch 12/25\n",
      "49/49 [==============================] - 2s 45ms/step - loss: 0.7229 - accuracy: 0.7470\n",
      "Epoch 13/25\n",
      "49/49 [==============================] - 2s 45ms/step - loss: 0.6934 - accuracy: 0.7573\n",
      "Epoch 14/25\n",
      "49/49 [==============================] - 2s 46ms/step - loss: 0.6931 - accuracy: 0.7573\n",
      "Epoch 15/25\n",
      "49/49 [==============================] - 2s 44ms/step - loss: 0.6858 - accuracy: 0.7573\n",
      "Epoch 16/25\n",
      "49/49 [==============================] - 2s 45ms/step - loss: 0.6865 - accuracy: 0.7582\n",
      "Epoch 17/25\n",
      "49/49 [==============================] - 2s 44ms/step - loss: 0.6745 - accuracy: 0.7646\n",
      "Epoch 18/25\n",
      "49/49 [==============================] - 2s 48ms/step - loss: 0.6677 - accuracy: 0.7625\n",
      "Epoch 19/25\n",
      "49/49 [==============================] - 2s 45ms/step - loss: 0.6323 - accuracy: 0.7769\n",
      "Epoch 20/25\n",
      "49/49 [==============================] - 2s 48ms/step - loss: 0.6361 - accuracy: 0.7743\n",
      "Epoch 21/25\n",
      "49/49 [==============================] - 2s 45ms/step - loss: 0.6183 - accuracy: 0.7818\n",
      "Epoch 22/25\n",
      "49/49 [==============================] - 2s 46ms/step - loss: 0.6017 - accuracy: 0.7877\n",
      "Epoch 23/25\n",
      "49/49 [==============================] - 2s 44ms/step - loss: 0.5918 - accuracy: 0.7926\n",
      "Epoch 24/25\n",
      "49/49 [==============================] - 2s 44ms/step - loss: 0.5977 - accuracy: 0.7889\n",
      "Epoch 25/25\n",
      "49/49 [==============================] - 2s 44ms/step - loss: 0.6145 - accuracy: 0.7829\n",
      "313/313 [==============================] - 1s 2ms/step - loss: 463.0656 - accuracy: 0.4549\n",
      "Epoch 1/25\n",
      "49/49 [==============================] - 2s 44ms/step - loss: 1.7426 - accuracy: 0.4879\n",
      "Epoch 2/25\n",
      "49/49 [==============================] - 2s 44ms/step - loss: 0.9878 - accuracy: 0.6478\n",
      "Epoch 3/25\n",
      "49/49 [==============================] - 2s 45ms/step - loss: 0.7417 - accuracy: 0.7352\n",
      "Epoch 4/25\n",
      "49/49 [==============================] - 2s 46ms/step - loss: 0.6374 - accuracy: 0.7739\n",
      "Epoch 5/25\n"
     ]
    },
    {
     "name": "stdout",
     "output_type": "stream",
     "text": [
      "49/49 [==============================] - 2s 45ms/step - loss: 0.6184 - accuracy: 0.7798\n",
      "Epoch 6/25\n",
      "49/49 [==============================] - 2s 47ms/step - loss: 0.6123 - accuracy: 0.7820\n",
      "Epoch 7/25\n",
      "49/49 [==============================] - 2s 46ms/step - loss: 0.5721 - accuracy: 0.7984\n",
      "Epoch 8/25\n",
      "49/49 [==============================] - 2s 45ms/step - loss: 0.5829 - accuracy: 0.7932\n",
      "Epoch 9/25\n",
      "49/49 [==============================] - 2s 44ms/step - loss: 0.5647 - accuracy: 0.8008\n",
      "Epoch 10/25\n",
      "49/49 [==============================] - 2s 48ms/step - loss: 0.5645 - accuracy: 0.7969\n",
      "Epoch 11/25\n",
      "49/49 [==============================] - 2s 45ms/step - loss: 0.5532 - accuracy: 0.8024\n",
      "Epoch 12/25\n",
      "49/49 [==============================] - 2s 46ms/step - loss: 0.5313 - accuracy: 0.8108\n",
      "Epoch 13/25\n",
      "49/49 [==============================] - 2s 46ms/step - loss: 0.5141 - accuracy: 0.8157\n",
      "Epoch 14/25\n",
      "49/49 [==============================] - 2s 46ms/step - loss: 0.5162 - accuracy: 0.8157\n",
      "Epoch 15/25\n",
      "49/49 [==============================] - 2s 48ms/step - loss: 0.5348 - accuracy: 0.8086\n",
      "Epoch 16/25\n",
      "49/49 [==============================] - 2s 46ms/step - loss: 0.5018 - accuracy: 0.8202\n",
      "Epoch 17/25\n",
      "49/49 [==============================] - 2s 48ms/step - loss: 0.4883 - accuracy: 0.8257\n",
      "Epoch 18/25\n",
      "49/49 [==============================] - 2s 48ms/step - loss: 0.4751 - accuracy: 0.8302\n",
      "Epoch 19/25\n",
      "49/49 [==============================] - 2s 47ms/step - loss: 0.4799 - accuracy: 0.8289\n",
      "Epoch 20/25\n",
      "49/49 [==============================] - 2s 46ms/step - loss: 0.4723 - accuracy: 0.8303\n",
      "Epoch 21/25\n",
      "49/49 [==============================] - 2s 47ms/step - loss: 0.4428 - accuracy: 0.8417\n",
      "Epoch 22/25\n",
      "49/49 [==============================] - 2s 47ms/step - loss: 0.4660 - accuracy: 0.8321\n",
      "Epoch 23/25\n",
      "49/49 [==============================] - 2s 46ms/step - loss: 0.4303 - accuracy: 0.8461\n",
      "Epoch 24/25\n",
      "49/49 [==============================] - 2s 48ms/step - loss: 0.4406 - accuracy: 0.8422\n",
      "Epoch 25/25\n",
      "49/49 [==============================] - 2s 48ms/step - loss: 0.4467 - accuracy: 0.8394\n",
      "313/313 [==============================] - 1s 2ms/step - loss: 667.0264 - accuracy: 0.4323\n",
      "Epoch 1/25\n",
      "49/49 [==============================] - 3s 46ms/step - loss: 2.0185 - accuracy: 0.4622\n",
      "Epoch 2/25\n",
      "49/49 [==============================] - 2s 46ms/step - loss: 1.0801 - accuracy: 0.6142\n",
      "Epoch 3/25\n",
      "49/49 [==============================] - 2s 44ms/step - loss: 0.7600 - accuracy: 0.7269\n",
      "Epoch 4/25\n",
      "49/49 [==============================] - 2s 47ms/step - loss: 0.5701 - accuracy: 0.7951\n",
      "Epoch 5/25\n",
      "49/49 [==============================] - 2s 46ms/step - loss: 0.5026 - accuracy: 0.8197\n",
      "Epoch 6/25\n",
      "49/49 [==============================] - 2s 47ms/step - loss: 0.4866 - accuracy: 0.8234\n",
      "Epoch 7/25\n",
      "49/49 [==============================] - 2s 47ms/step - loss: 0.4665 - accuracy: 0.8315\n",
      "Epoch 8/25\n",
      "49/49 [==============================] - 2s 47ms/step - loss: 0.4345 - accuracy: 0.8435\n",
      "Epoch 9/25\n",
      "49/49 [==============================] - 2s 47ms/step - loss: 0.4591 - accuracy: 0.8330\n",
      "Epoch 10/25\n",
      "49/49 [==============================] - 2s 45ms/step - loss: 0.4162 - accuracy: 0.8515\n",
      "Epoch 11/25\n",
      "49/49 [==============================] - 2s 46ms/step - loss: 0.4154 - accuracy: 0.8486\n",
      "Epoch 12/25\n",
      "49/49 [==============================] - 2s 48ms/step - loss: 0.4104 - accuracy: 0.8507\n",
      "Epoch 13/25\n",
      "49/49 [==============================] - 2s 45ms/step - loss: 0.4086 - accuracy: 0.8538\n",
      "Epoch 14/25\n",
      "49/49 [==============================] - 2s 46ms/step - loss: 0.4080 - accuracy: 0.8521\n",
      "Epoch 15/25\n",
      "49/49 [==============================] - 2s 45ms/step - loss: 0.3802 - accuracy: 0.8620\n",
      "Epoch 16/25\n",
      "49/49 [==============================] - 2s 46ms/step - loss: 0.3605 - accuracy: 0.8691\n",
      "Epoch 17/25\n",
      "49/49 [==============================] - 2s 47ms/step - loss: 0.3508 - accuracy: 0.8750\n",
      "Epoch 18/25\n",
      "49/49 [==============================] - 2s 44ms/step - loss: 0.3668 - accuracy: 0.8672\n",
      "Epoch 19/25\n",
      "49/49 [==============================] - 2s 45ms/step - loss: 0.3450 - accuracy: 0.8737\n",
      "Epoch 20/25\n",
      "49/49 [==============================] - 2s 44ms/step - loss: 0.3398 - accuracy: 0.8769\n",
      "Epoch 21/25\n",
      "49/49 [==============================] - 2s 44ms/step - loss: 0.3415 - accuracy: 0.8763\n",
      "Epoch 22/25\n",
      "49/49 [==============================] - 2s 47ms/step - loss: 0.3507 - accuracy: 0.8732\n",
      "Epoch 23/25\n",
      "49/49 [==============================] - 2s 47ms/step - loss: 0.3743 - accuracy: 0.8630\n",
      "Epoch 24/25\n",
      "49/49 [==============================] - 2s 46ms/step - loss: 0.3428 - accuracy: 0.8747\n",
      "Epoch 25/25\n",
      "49/49 [==============================] - 2s 46ms/step - loss: 0.3213 - accuracy: 0.8844\n",
      "313/313 [==============================] - 1s 2ms/step - loss: 790.6219 - accuracy: 0.4487\n"
     ]
    }
   ],
   "source": [
    "# Define the Keras TensorBoard callback.\n",
    "logdir=\"logs/fit/\" + datetime.now().strftime(\"%Y%m%d-%H%M%S\")\n",
    "tensorboard_callback = keras.callbacks.TensorBoard(log_dir=logdir)\n",
    "\n",
    "n = 5\n",
    "res_loss = np.zeros(n)\n",
    "res_acc = np.zeros(n)\n",
    "alphas = np.zeros(n)\n",
    "\n",
    "for i in range(n):\n",
    "    alpha = 0.001*(i+1)\n",
    "    alphas[i] = alpha\n",
    "    model.compile(optimizer='adam',loss='sparse_categorical_crossentropy',metrics=['accuracy'])\n",
    "    K.set_value(model.optimizer.learning_rate, alpha)\n",
    "    # Train the model.\n",
    "    model.fit(x_train, y_train, batch_size=1024,epochs=25, callbacks=[tensorboard_callback])\n",
    "    # Evaluate\n",
    "    score = model.evaluate(x_test, y_test)\n",
    "    res_loss[i] = score[0]\n",
    "    res_acc[i] = score[1]"
   ]
  },
  {
   "cell_type": "code",
   "execution_count": 15,
   "metadata": {},
   "outputs": [
    {
     "data": {
      "image/png": "[encoded data removed]",
      "text/plain": [
       "<Figure size 432x288 with 1 Axes>"
      ]
     },
     "metadata": {
      "needs_background": "light"
     },
     "output_type": "display_data"
    }
   ],
   "source": [
    "plt.plot(alphas,res_loss)\n",
    "plt.title(\"Test Results\")\n",
    "plt.ylabel(\"loss\")\n",
    "plt.xlabel(\"learning rate\")\n",
    "plt.xscale(\"log\")\n",
    "plt.show()"
   ]
  },
  {
   "cell_type": "code",
   "execution_count": 16,
   "metadata": {},
   "outputs": [
    {
     "data": {
      "image/png": "[encoded data removed]",
      "text/plain": [
       "<Figure size 432x288 with 1 Axes>"
      ]
     },
     "metadata": {
      "needs_background": "light"
     },
     "output_type": "display_data"
    }
   ],
   "source": [
    "plt.plot(alphas,res_acc)\n",
    "plt.title(\"Test Results\")\n",
    "plt.ylabel(\"accuracy\")\n",
    "plt.xlabel(\"learning rate\")\n",
    "plt.xscale(\"log\")\n",
    "plt.show()"
   ]
  },
  {
   "cell_type": "markdown",
   "metadata": {},
   "source": [
    "Increaing the learning rate from 0.001 to 0.005 improved the accuracy up to some value, then the accuracy got worse. The loss, on the other hand, kept up increasing. "
   ]
  },
  {
   "cell_type": "markdown",
   "metadata": {},
   "source": [
    "### What is the effect of batch size on the training process? Which performed best?"
   ]
  },
  {
   "cell_type": "code",
   "execution_count": 17,
   "metadata": {},
   "outputs": [
    {
     "name": "stdout",
     "output_type": "stream",
     "text": [
      "Epoch 1/25\n",
      "2500/2500 [==============================] - 5s 2ms/step - loss: 0.6959 - accuracy: 0.7559\n",
      "Epoch 2/25\n",
      "2500/2500 [==============================] - 5s 2ms/step - loss: 0.6791 - accuracy: 0.7562\n",
      "Epoch 3/25\n",
      "2500/2500 [==============================] - 5s 2ms/step - loss: 0.6624 - accuracy: 0.7621\n",
      "Epoch 4/25\n",
      "2500/2500 [==============================] - 5s 2ms/step - loss: 0.6567 - accuracy: 0.7628\n",
      "Epoch 5/25\n",
      "2500/2500 [==============================] - 5s 2ms/step - loss: 0.6386 - accuracy: 0.7716\n",
      "Epoch 6/25\n",
      "2500/2500 [==============================] - 5s 2ms/step - loss: 0.6194 - accuracy: 0.7757\n",
      "Epoch 7/25\n",
      "2500/2500 [==============================] - 5s 2ms/step - loss: 0.6140 - accuracy: 0.7782\n",
      "Epoch 8/25\n",
      "2500/2500 [==============================] - 6s 2ms/step - loss: 0.6021 - accuracy: 0.7824\n",
      "Epoch 9/25\n",
      "2500/2500 [==============================] - 6s 3ms/step - loss: 0.5888 - accuracy: 0.7876\n",
      "Epoch 10/25\n",
      "2500/2500 [==============================] - 6s 3ms/step - loss: 0.5764 - accuracy: 0.7917\n",
      "Epoch 11/25\n",
      "2500/2500 [==============================] - 6s 3ms/step - loss: 0.5590 - accuracy: 0.7984\n",
      "Epoch 12/25\n",
      "2500/2500 [==============================] - 6s 3ms/step - loss: 0.5531 - accuracy: 0.8006\n",
      "Epoch 13/25\n",
      "2500/2500 [==============================] - 6s 3ms/step - loss: 0.5430 - accuracy: 0.8034\n",
      "Epoch 14/25\n",
      "2500/2500 [==============================] - 6s 2ms/step - loss: 0.5234 - accuracy: 0.8109\n",
      "Epoch 15/25\n",
      "2500/2500 [==============================] - 6s 2ms/step - loss: 0.5162 - accuracy: 0.8150\n",
      "Epoch 16/25\n",
      "2500/2500 [==============================] - 6s 2ms/step - loss: 0.5096 - accuracy: 0.8150\n",
      "Epoch 17/25\n",
      "2500/2500 [==============================] - 7s 3ms/step - loss: 0.5013 - accuracy: 0.8193\n",
      "Epoch 18/25\n",
      "2500/2500 [==============================] - 6s 2ms/step - loss: 0.4843 - accuracy: 0.8243\n",
      "Epoch 19/25\n",
      "2500/2500 [==============================] - 6s 2ms/step - loss: 0.4786 - accuracy: 0.8264\n",
      "Epoch 20/25\n",
      "2500/2500 [==============================] - 6s 2ms/step - loss: 0.4654 - accuracy: 0.8323\n",
      "Epoch 21/25\n",
      "2500/2500 [==============================] - 6s 2ms/step - loss: 0.4621 - accuracy: 0.8319\n",
      "Epoch 22/25\n",
      "2500/2500 [==============================] - 6s 2ms/step - loss: 0.4555 - accuracy: 0.8350\n",
      "Epoch 23/25\n",
      "2500/2500 [==============================] - 6s 2ms/step - loss: 0.4430 - accuracy: 0.8398\n",
      "Epoch 24/25\n",
      "2500/2500 [==============================] - 6s 3ms/step - loss: 0.4376 - accuracy: 0.8421\n",
      "Epoch 25/25\n",
      "2500/2500 [==============================] - 6s 2ms/step - loss: 0.4297 - accuracy: 0.8440\n",
      "313/313 [==============================] - 1s 1ms/step - loss: 712.4758 - accuracy: 0.4436\n",
      "Epoch 1/25\n",
      "1250/1250 [==============================] - 4s 3ms/step - loss: 0.3253 - accuracy: 0.8812\n",
      "Epoch 2/25\n",
      "1250/1250 [==============================] - 4s 3ms/step - loss: 0.2842 - accuracy: 0.8967\n",
      "Epoch 3/25\n",
      "1250/1250 [==============================] - 4s 3ms/step - loss: 0.2856 - accuracy: 0.8956\n",
      "Epoch 4/25\n",
      "1250/1250 [==============================] - 4s 3ms/step - loss: 0.2626 - accuracy: 0.9044\n",
      "Epoch 5/25\n",
      "1250/1250 [==============================] - 4s 3ms/step - loss: 0.2683 - accuracy: 0.9028\n",
      "Epoch 6/25\n",
      "1250/1250 [==============================] - 4s 3ms/step - loss: 0.2520 - accuracy: 0.9088\n",
      "Epoch 7/25\n",
      "1250/1250 [==============================] - 4s 3ms/step - loss: 0.2604 - accuracy: 0.9067\n",
      "Epoch 8/25\n",
      "1250/1250 [==============================] - 4s 3ms/step - loss: 0.2526 - accuracy: 0.9082\n",
      "Epoch 9/25\n",
      "1250/1250 [==============================] - 4s 3ms/step - loss: 0.2367 - accuracy: 0.9132\n",
      "Epoch 10/25\n",
      "1250/1250 [==============================] - 4s 3ms/step - loss: 0.2312 - accuracy: 0.9179\n",
      "Epoch 11/25\n",
      "1250/1250 [==============================] - 4s 3ms/step - loss: 0.2324 - accuracy: 0.9171\n",
      "Epoch 12/25\n",
      "1250/1250 [==============================] - 4s 3ms/step - loss: 0.2422 - accuracy: 0.9129\n",
      "Epoch 13/25\n",
      "1250/1250 [==============================] - 4s 3ms/step - loss: 0.2273 - accuracy: 0.9179\n",
      "Epoch 14/25\n",
      "1250/1250 [==============================] - 4s 3ms/step - loss: 0.2287 - accuracy: 0.9173\n",
      "Epoch 15/25\n",
      "1250/1250 [==============================] - 4s 3ms/step - loss: 0.2219 - accuracy: 0.9197\n",
      "Epoch 16/25\n",
      "1250/1250 [==============================] - 4s 3ms/step - loss: 0.2166 - accuracy: 0.9226\n",
      "Epoch 17/25\n",
      "1250/1250 [==============================] - 4s 3ms/step - loss: 0.2136 - accuracy: 0.9229\n",
      "Epoch 18/25\n",
      "1250/1250 [==============================] - 4s 3ms/step - loss: 0.2202 - accuracy: 0.9214\n",
      "Epoch 19/25\n",
      "1250/1250 [==============================] - 4s 3ms/step - loss: 0.2088 - accuracy: 0.9245\n",
      "Epoch 20/25\n",
      "1250/1250 [==============================] - 4s 3ms/step - loss: 0.2033 - accuracy: 0.9296\n",
      "Epoch 21/25\n",
      "1250/1250 [==============================] - 4s 3ms/step - loss: 0.2077 - accuracy: 0.9262\n",
      "Epoch 22/25\n",
      "1250/1250 [==============================] - 4s 3ms/step - loss: 0.2035 - accuracy: 0.9281\n",
      "Epoch 23/25\n",
      "1250/1250 [==============================] - 4s 3ms/step - loss: 0.2055 - accuracy: 0.9266\n",
      "Epoch 24/25\n",
      "1250/1250 [==============================] - 4s 3ms/step - loss: 0.2021 - accuracy: 0.9271\n",
      "Epoch 25/25\n",
      "1250/1250 [==============================] - 4s 3ms/step - loss: 0.1911 - accuracy: 0.9312\n",
      "313/313 [==============================] - 1s 2ms/step - loss: 1250.9128 - accuracy: 0.4535\n",
      "Epoch 1/25\n",
      "834/834 [==============================] - 4s 4ms/step - loss: 0.1486 - accuracy: 0.9453\n",
      "Epoch 2/25\n",
      "834/834 [==============================] - 4s 4ms/step - loss: 0.1418 - accuracy: 0.9484\n",
      "Epoch 3/25\n",
      "834/834 [==============================] - 4s 4ms/step - loss: 0.1374 - accuracy: 0.9512\n",
      "Epoch 4/25\n",
      "834/834 [==============================] - 4s 4ms/step - loss: 0.1273 - accuracy: 0.9547\n",
      "Epoch 5/25\n",
      "834/834 [==============================] - 4s 4ms/step - loss: 0.1295 - accuracy: 0.9547\n",
      "Epoch 6/25\n",
      "834/834 [==============================] - 4s 4ms/step - loss: 0.1411 - accuracy: 0.9500\n",
      "Epoch 7/25\n",
      "834/834 [==============================] - 4s 5ms/step - loss: 0.1179 - accuracy: 0.9586\n",
      "Epoch 8/25\n",
      "834/834 [==============================] - 4s 4ms/step - loss: 0.1352 - accuracy: 0.9522\n",
      "Epoch 9/25\n",
      "834/834 [==============================] - 4s 4ms/step - loss: 0.1368 - accuracy: 0.9514\n",
      "Epoch 10/25\n",
      "834/834 [==============================] - 4s 4ms/step - loss: 0.1335 - accuracy: 0.9530\n",
      "Epoch 11/25\n",
      "834/834 [==============================] - 4s 4ms/step - loss: 0.1174 - accuracy: 0.9572\n",
      "Epoch 12/25\n",
      "834/834 [==============================] - 4s 4ms/step - loss: 0.1204 - accuracy: 0.9574\n",
      "Epoch 13/25\n",
      "834/834 [==============================] - 4s 4ms/step - loss: 0.1262 - accuracy: 0.9561\n",
      "Epoch 14/25\n",
      "834/834 [==============================] - 4s 4ms/step - loss: 0.1448 - accuracy: 0.9497\n",
      "Epoch 15/25\n",
      "834/834 [==============================] - 4s 4ms/step - loss: 0.1107 - accuracy: 0.9614\n",
      "Epoch 16/25\n",
      "834/834 [==============================] - 4s 4ms/step - loss: 0.1270 - accuracy: 0.9565\n",
      "Epoch 17/25\n",
      "834/834 [==============================] - 4s 4ms/step - loss: 0.1210 - accuracy: 0.9573\n",
      "Epoch 18/25\n",
      "834/834 [==============================] - 4s 4ms/step - loss: 0.1220 - accuracy: 0.9577\n",
      "Epoch 19/25\n",
      "834/834 [==============================] - 4s 4ms/step - loss: 0.1187 - accuracy: 0.9577\n",
      "Epoch 20/25\n",
      "834/834 [==============================] - 4s 4ms/step - loss: 0.1329 - accuracy: 0.9538\n",
      "Epoch 21/25\n",
      "834/834 [==============================] - 4s 4ms/step - loss: 0.1194 - accuracy: 0.9582\n",
      "Epoch 22/25\n",
      "834/834 [==============================] - 4s 4ms/step - loss: 0.1141 - accuracy: 0.9602\n",
      "Epoch 23/25\n",
      "834/834 [==============================] - 4s 4ms/step - loss: 0.1257 - accuracy: 0.9559\n",
      "Epoch 24/25\n",
      "834/834 [==============================] - 4s 4ms/step - loss: 0.1086 - accuracy: 0.9621\n",
      "Epoch 25/25\n",
      "834/834 [==============================] - 4s 4ms/step - loss: 0.1307 - accuracy: 0.9550\n",
      "313/313 [==============================] - 1s 2ms/step - loss: 1868.1306 - accuracy: 0.4504\n",
      "Epoch 1/25\n",
      "625/625 [==============================] - 3s 5ms/step - loss: 0.1000 - accuracy: 0.9645\n",
      "Epoch 2/25\n",
      "625/625 [==============================] - 3s 5ms/step - loss: 0.0748 - accuracy: 0.9731\n",
      "Epoch 3/25\n"
     ]
    },
    {
     "name": "stdout",
     "output_type": "stream",
     "text": [
      "625/625 [==============================] - 3s 5ms/step - loss: 0.1012 - accuracy: 0.9670\n",
      "Epoch 4/25\n",
      "625/625 [==============================] - 3s 5ms/step - loss: 0.0850 - accuracy: 0.9705\n",
      "Epoch 5/25\n",
      "625/625 [==============================] - 3s 5ms/step - loss: 0.0936 - accuracy: 0.9671\n",
      "Epoch 6/25\n",
      "625/625 [==============================] - 3s 5ms/step - loss: 0.0937 - accuracy: 0.9674\n",
      "Epoch 7/25\n",
      "625/625 [==============================] - 3s 5ms/step - loss: 0.0712 - accuracy: 0.9746\n",
      "Epoch 8/25\n",
      "625/625 [==============================] - 3s 5ms/step - loss: 0.0832 - accuracy: 0.9709\n",
      "Epoch 9/25\n",
      "625/625 [==============================] - 3s 5ms/step - loss: 0.0952 - accuracy: 0.9670\n",
      "Epoch 10/25\n",
      "625/625 [==============================] - 3s 5ms/step - loss: 0.0648 - accuracy: 0.9772\n",
      "Epoch 11/25\n",
      "625/625 [==============================] - 3s 5ms/step - loss: 0.0836 - accuracy: 0.9713\n",
      "Epoch 12/25\n",
      "625/625 [==============================] - 3s 5ms/step - loss: 0.1054 - accuracy: 0.9642\n",
      "Epoch 13/25\n",
      "625/625 [==============================] - 3s 5ms/step - loss: 0.0670 - accuracy: 0.9760\n",
      "Epoch 14/25\n",
      "625/625 [==============================] - 3s 5ms/step - loss: 0.0744 - accuracy: 0.9744\n",
      "Epoch 15/25\n",
      "625/625 [==============================] - 3s 5ms/step - loss: 0.1097 - accuracy: 0.9635\n",
      "Epoch 16/25\n",
      "625/625 [==============================] - 3s 5ms/step - loss: 0.0841 - accuracy: 0.9718\n",
      "Epoch 17/25\n",
      "625/625 [==============================] - 3s 5ms/step - loss: 0.0620 - accuracy: 0.9783\n",
      "Epoch 18/25\n",
      "625/625 [==============================] - 3s 5ms/step - loss: 0.0857 - accuracy: 0.9708\n",
      "Epoch 19/25\n",
      "625/625 [==============================] - 3s 5ms/step - loss: 0.1006 - accuracy: 0.9664\n",
      "Epoch 20/25\n",
      "625/625 [==============================] - 3s 5ms/step - loss: 0.0900 - accuracy: 0.9703\n",
      "Epoch 21/25\n",
      "625/625 [==============================] - 3s 5ms/step - loss: 0.0802 - accuracy: 0.9730\n",
      "Epoch 22/25\n",
      "625/625 [==============================] - 3s 5ms/step - loss: 0.0767 - accuracy: 0.9738\n",
      "Epoch 23/25\n",
      "625/625 [==============================] - 3s 5ms/step - loss: 0.0809 - accuracy: 0.9729\n",
      "Epoch 24/25\n",
      "625/625 [==============================] - 3s 5ms/step - loss: 0.0908 - accuracy: 0.9705\n",
      "Epoch 25/25\n",
      "625/625 [==============================] - 3s 5ms/step - loss: 0.0728 - accuracy: 0.9759\n",
      "313/313 [==============================] - 1s 2ms/step - loss: 2157.6565 - accuracy: 0.4737\n",
      "Epoch 1/25\n",
      "500/500 [==============================] - 3s 6ms/step - loss: 0.0735 - accuracy: 0.9745\n",
      "Epoch 2/25\n",
      "500/500 [==============================] - 3s 6ms/step - loss: 0.0533 - accuracy: 0.9817\n",
      "Epoch 3/25\n",
      "500/500 [==============================] - 3s 6ms/step - loss: 0.0744 - accuracy: 0.9748\n",
      "Epoch 4/25\n",
      "500/500 [==============================] - 3s 6ms/step - loss: 0.0633 - accuracy: 0.9781\n",
      "Epoch 5/25\n",
      "500/500 [==============================] - 3s 6ms/step - loss: 0.0500 - accuracy: 0.9829\n",
      "Epoch 6/25\n",
      "500/500 [==============================] - 3s 6ms/step - loss: 0.0802 - accuracy: 0.9738\n",
      "Epoch 7/25\n",
      "500/500 [==============================] - 3s 6ms/step - loss: 0.0534 - accuracy: 0.9814\n",
      "Epoch 8/25\n",
      "500/500 [==============================] - 3s 6ms/step - loss: 0.0570 - accuracy: 0.9803\n",
      "Epoch 9/25\n",
      "500/500 [==============================] - 3s 6ms/step - loss: 0.0329 - accuracy: 0.9886\n",
      "Epoch 10/25\n",
      "500/500 [==============================] - 3s 6ms/step - loss: 0.0952 - accuracy: 0.9684\n",
      "Epoch 11/25\n",
      "500/500 [==============================] - 3s 6ms/step - loss: 0.0660 - accuracy: 0.9770\n",
      "Epoch 12/25\n",
      "500/500 [==============================] - 3s 6ms/step - loss: 0.0625 - accuracy: 0.9780\n",
      "Epoch 13/25\n",
      "500/500 [==============================] - 3s 6ms/step - loss: 0.0516 - accuracy: 0.9829\n",
      "Epoch 14/25\n",
      "500/500 [==============================] - 3s 6ms/step - loss: 0.0903 - accuracy: 0.9715\n",
      "Epoch 15/25\n",
      "500/500 [==============================] - 3s 6ms/step - loss: 0.0659 - accuracy: 0.9790\n",
      "Epoch 16/25\n",
      "500/500 [==============================] - 3s 6ms/step - loss: 0.0517 - accuracy: 0.9831\n",
      "Epoch 17/25\n",
      "500/500 [==============================] - 3s 6ms/step - loss: 0.0353 - accuracy: 0.9880\n",
      "Epoch 18/25\n",
      "500/500 [==============================] - 3s 6ms/step - loss: 0.0886 - accuracy: 0.9720\n",
      "Epoch 19/25\n",
      "500/500 [==============================] - 3s 6ms/step - loss: 0.0926 - accuracy: 0.9708\n",
      "Epoch 20/25\n",
      "500/500 [==============================] - 3s 6ms/step - loss: 0.0494 - accuracy: 0.9831\n",
      "Epoch 21/25\n",
      "500/500 [==============================] - 3s 6ms/step - loss: 0.0596 - accuracy: 0.9800\n",
      "Epoch 22/25\n",
      "500/500 [==============================] - 3s 6ms/step - loss: 0.0669 - accuracy: 0.9782\n",
      "Epoch 23/25\n",
      "500/500 [==============================] - 3s 6ms/step - loss: 0.0465 - accuracy: 0.9843\n",
      "Epoch 24/25\n",
      "500/500 [==============================] - 3s 6ms/step - loss: 0.0839 - accuracy: 0.9738\n",
      "Epoch 25/25\n",
      "500/500 [==============================] - 3s 6ms/step - loss: 0.0606 - accuracy: 0.9804\n",
      "313/313 [==============================] - 1s 2ms/step - loss: 2380.8083 - accuracy: 0.4696\n"
     ]
    }
   ],
   "source": [
    "# Define the Keras TensorBoard callback.\n",
    "logdir=\"logs/fit/\" + datetime.now().strftime(\"%Y%m%d-%H%M%S\")\n",
    "tensorboard_callback = keras.callbacks.TensorBoard(log_dir=logdir)\n",
    "\n",
    "n = 5\n",
    "res_loss2 = np.zeros(n)\n",
    "res_acc2 = np.zeros(n)\n",
    "batchs = np.zeros(n)\n",
    "\n",
    "for i in range(n):\n",
    "    batch = 20*(i+1)\n",
    "    batchs[i] = batch\n",
    "    model.compile(optimizer='adam',loss='sparse_categorical_crossentropy',metrics=['accuracy'])\n",
    "    # Train the model.\n",
    "    model.fit(x_train, y_train, batch_size=batch,epochs=25, callbacks=[tensorboard_callback])\n",
    "    # Evaluate\n",
    "    score = model.evaluate(x_test, y_test)\n",
    "    res_loss2[i] = score[0]\n",
    "    res_acc2[i] = score[1]"
   ]
  },
  {
   "cell_type": "code",
   "execution_count": 19,
   "metadata": {},
   "outputs": [
    {
     "data": {
      "text/plain": [
       "Text(0.5, 0, 'batch size')"
      ]
     },
     "execution_count": 19,
     "metadata": {},
     "output_type": "execute_result"
    },
    {
     "data": {
      "image/png": "[encoded data removed]",
      "text/plain": [
       "<Figure size 432x288 with 1 Axes>"
      ]
     },
     "metadata": {
      "needs_background": "light"
     },
     "output_type": "display_data"
    }
   ],
   "source": [
    "plt.plot(batchs,res_loss2)\n",
    "plt.title(\"Results\")\n",
    "plt.ylabel(\"loss\")\n",
    "plt.xlabel(\"batch size\")"
   ]
  },
  {
   "cell_type": "code",
   "execution_count": 20,
   "metadata": {},
   "outputs": [
    {
     "data": {
      "text/plain": [
       "Text(0.5, 0, 'batch size')"
      ]
     },
     "execution_count": 20,
     "metadata": {},
     "output_type": "execute_result"
    },
    {
     "data": {
      "image/png": "[encoded data removed]",
      "text/plain": [
       "<Figure size 432x288 with 1 Axes>"
      ]
     },
     "metadata": {
      "needs_background": "light"
     },
     "output_type": "display_data"
    }
   ],
   "source": [
    "plt.plot(batchs,res_acc2)\n",
    "plt.title(\"Results\")\n",
    "plt.ylabel(\"accuracy\")\n",
    "plt.xlabel(\"batch size\")"
   ]
  },
  {
   "cell_type": "markdown",
   "metadata": {},
   "source": [
    "### Try different hyperparameters to obtain the best accuracy on the test set. What is your best performance and what were the hyperparameters?"
   ]
  },
  {
   "cell_type": "markdown",
   "metadata": {},
   "source": [
    "For a learning rate = 0.001, batch size = 128, the accuracy is 0.483. "
   ]
  },
  {
   "cell_type": "markdown",
   "metadata": {},
   "source": [
    "### Implement an equivalent feed forward network for the same task with each hidden layer containing the same number of neurons as the number of filters in each convolution layer. Use the ‘Adam’ optimizer to train your network on the CIFAR-10 dataset for a fixed set of 25 epochs. Compare its performance with your LeNet implementation based on the following questions: \n",
    "\n",
    "a. What is its performance?\n",
    "b. How many parameters are there in this network compared to the LeNet\n",
    "implementation? Are they worth it?"
   ]
  },
  {
   "cell_type": "code",
   "execution_count": null,
   "metadata": {},
   "outputs": [],
   "source": []
  },
  {
   "cell_type": "markdown",
   "metadata": {
    "id": "BFJ6DFl38eSU"
   },
   "source": [
    "# Question 3\n",
    "\n",
    "\n",
    "\n"
   ]
  },
  {
   "cell_type": "markdown",
   "metadata": {
    "id": "euz1IZnM9Cke"
   },
   "source": [
    "### What are the dimensions of the input and the kernel (or filter)? How many parameters are there in the kernel f?\n",
    "\n"
   ]
  },
  {
   "cell_type": "code",
   "execution_count": 8,
   "metadata": {
    "colab": {
     "base_uri": "https://localhost:8080/"
    },
    "executionInfo": {
     "elapsed": 124,
     "status": "ok",
     "timestamp": 1667239043031,
     "user": {
      "displayName": "Alberto Navarro",
      "userId": "07299865193384909733"
     },
     "user_tz": 300
    },
    "id": "NbsyxPcu8jKK",
    "outputId": "cd1eba0b-d658-444b-a84e-8e014ffa2f0e"
   },
   "outputs": [
    {
     "name": "stdout",
     "output_type": "stream",
     "text": [
      "Depth of input/kernel: 1\n",
      "Input dimensions:  (6, 6)\n",
      "Kernel dimensions:  (3, 3)\n",
      "Parameters in kernel:  10\n"
     ]
    }
   ],
   "source": [
    "# Input \n",
    "matrix = np.array([[7,5,0,0,3,2],[6,4,5,1,4,8],[9,0,2,2,5,4],[6,3,4,7,9,8],[5,7,5,6,9,0],[7,9,0,8,2,3]])\n",
    "W1,H1 = np.shape(matrix)\n",
    "C = 1\n",
    "print(\"Depth of input/kernel:\", C)\n",
    "\n",
    "# filter\n",
    "kernel = np.array([[1,0,-1],[2,0,-2],[1,0,-1]])\n",
    "F = np.shape(kernel)[0]\n",
    "\n",
    "print(\"Input dimensions: \",np.shape(matrix))\n",
    "print(\"Kernel dimensions: \",np.shape(kernel))\n",
    "\n",
    "##Parameters in kernel \n",
    "par = F*F*C + 1\n",
    "print(\"Parameters in kernel: \",par)"
   ]
  },
  {
   "cell_type": "markdown",
   "metadata": {
    "id": "olr0VmugDnia"
   },
   "source": [
    "### What is the output activation map when you apply the convolutional operation using the filter f on the input X without padding?"
   ]
  },
  {
   "cell_type": "code",
   "execution_count": 9,
   "metadata": {
    "colab": {
     "base_uri": "https://localhost:8080/"
    },
    "executionInfo": {
     "elapsed": 5,
     "status": "ok",
     "timestamp": 1667239044668,
     "user": {
      "displayName": "Alberto Navarro",
      "userId": "07299865193384909733"
     },
     "user_tz": 300
    },
    "id": "obts4s9ZBFr9",
    "outputId": "060472bf-db00-4f82-eb46-02df4a4d6296"
   },
   "outputs": [
    {
     "name": "stdout",
     "output_type": "stream",
     "text": [
      "Output dimensions: (4.0, 4.0, 1)\n",
      "Output:  [[ 16   9  -4 -18]\n",
      " [ 17  -5 -10 -12]\n",
      " [ 11  -9 -17   2]\n",
      " [  9  -1 -15  16]]\n"
     ]
    }
   ],
   "source": [
    "## stride and padding\n",
    "S, P = (1,0)\n",
    "W2 = (W1-F+2*P)/S + 1\n",
    "H2 = (H1-F+2*P)/S + 1\n",
    "out_dim = (W2,H2,C)\n",
    "\n",
    "print(\"Output dimensions:\",out_dim)\n",
    "\n",
    "#convolutional layer\n",
    "def conv2d(mat, krn):\n",
    "\n",
    "    is0, is1, ks0, ks1 = *mat.shape, *krn.shape\n",
    "    rs0, rs1 = is0 - ks0 + 1, is1 - ks1 + 1\n",
    "    res = np.zeros((rs0, rs1), dtype = krn.dtype)\n",
    "    \n",
    "    for i in range(rs0):\n",
    "        for j in range(rs1):\n",
    "            res[i, j] = (krn * mat[i : i + ks0, j : j + ks1]).sum()\n",
    "            \n",
    "    return res\n",
    "##output    \n",
    "output = conv2d(matrix,kernel)\n",
    "print(\"Output: \",output)"
   ]
  },
  {
   "cell_type": "markdown",
   "metadata": {
    "id": "yuQe5RxhIv7Q"
   },
   "source": [
    "### What is the output when you apply a max-pooling operation on the output from the previous question?"
   ]
  },
  {
   "cell_type": "code",
   "execution_count": 11,
   "metadata": {
    "colab": {
     "base_uri": "https://localhost:8080/"
    },
    "executionInfo": {
     "elapsed": 194,
     "status": "ok",
     "timestamp": 1667239046697,
     "user": {
      "displayName": "Alberto Navarro",
      "userId": "07299865193384909733"
     },
     "user_tz": 300
    },
    "id": "ygPvJQemITjD",
    "outputId": "4dddf84c-ab48-48c1-a11e-839bbc3a216c"
   },
   "outputs": [
    {
     "name": "stdout",
     "output_type": "stream",
     "text": [
      "Max pooling output:  [[17 -4]\n",
      " [11 16]]\n"
     ]
    }
   ],
   "source": [
    "import skimage.measure\n",
    "## Using a 2x2 filter with stride 2\n",
    "max_pool_out = skimage.measure.block_reduce(output, (2,2), np.max)\n",
    "print(\"Max pooling output: \",max_pool_out)"
   ]
  },
  {
   "cell_type": "code",
   "execution_count": null,
   "metadata": {
    "id": "ukKPAzp3Kr3y"
   },
   "outputs": [],
   "source": []
  }
 ],
 "metadata": {
  "colab": {
   "authorship_tag": "ABX9TyO2q37OvAeKaV/CREHW6sb/",
   "provenance": []
  },
  "kernelspec": {
   "display_name": "Python 3 (ipykernel)",
   "language": "python",
   "name": "python3"
  },
  "language_info": {
   "codemirror_mode": {
    "name": "ipython",
    "version": 3
   },
   "file_extension": ".py",
   "mimetype": "text/x-python",
   "name": "python",
   "nbconvert_exporter": "python",
   "pygments_lexer": "ipython3",
   "version": "3.10.6"
  }
 },
 "nbformat": 4,
 "nbformat_minor": 1
}
