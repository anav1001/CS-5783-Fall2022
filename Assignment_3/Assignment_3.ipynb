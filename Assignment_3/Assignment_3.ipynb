{
 "cells": [
  {
   "cell_type": "code",
   "execution_count": 1,
   "metadata": {
    "colab": {
     "base_uri": "https://localhost:8080/"
    },
    "executionInfo": {
     "elapsed": 130,
     "status": "ok",
     "timestamp": 1667347568673,
     "user": {
      "displayName": "Alberto Navarro",
      "userId": "07299865193384909733"
     },
     "user_tz": 300
    },
    "id": "-lduQvi880pL",
    "outputId": "8b72812e-b7ee-4ce5-9fad-c3659dabeedb"
   },
   "outputs": [
    {
     "name": "stderr",
     "output_type": "stream",
     "text": [
      "2022-11-01 21:33:45.351976: I tensorflow/core/util/util.cc:169] oneDNN custom operations are on. You may see slightly different numerical results due to floating-point round-off errors from different computation orders. To turn them off, set the environment variable `TF_ENABLE_ONEDNN_OPTS=0`.\n",
      "2022-11-01 21:33:45.354744: W tensorflow/stream_executor/platform/default/dso_loader.cc:64] Could not load dynamic library 'libcudart.so.11.0'; dlerror: libcudart.so.11.0: cannot open shared object file: No such file or directory\n",
      "2022-11-01 21:33:45.354752: I tensorflow/stream_executor/cuda/cudart_stub.cc:29] Ignore above cudart dlerror if you do not have a GPU set up on your machine.\n"
     ]
    }
   ],
   "source": [
    "# Load the TensorBoard notebook extension.\n",
    "%load_ext tensorboard\n",
    "\n",
    "from datetime import datetime\n",
    "from packaging import version\n",
    "\n",
    "import tensorflow as tf\n",
    "from tensorflow import keras\n",
    "\n",
    "from keras import backend as K\n",
    "\n",
    "import tensorboard\n",
    "import matplotlib.pyplot as plt\n",
    "\n",
    "import numpy as np"
   ]
  },
  {
   "cell_type": "markdown",
   "metadata": {
    "id": "doHQpg5c8wu_"
   },
   "source": [
    "# Question 1"
   ]
  },
  {
   "cell_type": "code",
   "execution_count": 2,
   "metadata": {
    "executionInfo": {
     "elapsed": 434,
     "status": "ok",
     "timestamp": 1667347570092,
     "user": {
      "displayName": "Alberto Navarro",
      "userId": "07299865193384909733"
     },
     "user_tz": 300
    },
    "id": "Vmodq7ol8kYE"
   },
   "outputs": [],
   "source": [
    "(train_images, train_labels), (test_images, test_labels) = keras.datasets.mnist.load_data()\n",
    "train_images = train_images / 255.0"
   ]
  },
  {
   "cell_type": "code",
   "execution_count": 3,
   "metadata": {
    "colab": {
     "base_uri": "https://localhost:8080/",
     "height": 227
    },
    "executionInfo": {
     "elapsed": 44687,
     "status": "ok",
     "timestamp": 1667347616499,
     "user": {
      "displayName": "Alberto Navarro",
      "userId": "07299865193384909733"
     },
     "user_tz": 300
    },
    "id": "Jdj2ozeb9gYS",
    "outputId": "57756ea9-0e37-4494-abd1-89f2cf838ccc"
   },
   "outputs": [
    {
     "data": {
      "image/png": "[encoded data removed]",
      "text/plain": [
       "<Figure size 432x288 with 10 Axes>"
      ]
     },
     "metadata": {
      "needs_background": "light"
     },
     "output_type": "display_data"
    }
   ],
   "source": [
    "fig, ax = plt.subplots(2,5)\n",
    "ax = ax.flatten()\n",
    "for i in range(10):\n",
    "    im_idx = np.argwhere(train_labels == i)[0]\n",
    "    plottable_image = np.reshape(train_images[im_idx], (28, 28))\n",
    "    ax[i].imshow(plottable_image, cmap='gray')"
   ]
  },
  {
   "cell_type": "code",
   "execution_count": 4,
   "metadata": {
    "colab": {
     "base_uri": "https://localhost:8080/"
    },
    "executionInfo": {
     "elapsed": 12,
     "status": "ok",
     "timestamp": 1667347616500,
     "user": {
      "displayName": "Alberto Navarro",
      "userId": "07299865193384909733"
     },
     "user_tz": 300
    },
    "id": "_2zasDso9uPE",
    "outputId": "e09a9571-b884-4833-e26b-c56731eefb14"
   },
   "outputs": [
    {
     "name": "stdout",
     "output_type": "stream",
     "text": [
      "5\n"
     ]
    },
    {
     "data": {
      "text/plain": [
       "array([0., 0., 0., 0., 0., 1., 0., 0., 0., 0.], dtype=float32)"
      ]
     },
     "execution_count": 4,
     "metadata": {},
     "output_type": "execute_result"
    }
   ],
   "source": [
    "print(train_labels[100])\n",
    "\n",
    "tf.keras.utils.to_categorical(train_labels)[100]"
   ]
  },
  {
   "cell_type": "markdown",
   "metadata": {
    "id": "jPr0oYMlvC1U"
   },
   "source": [
    "### Model 1"
   ]
  },
  {
   "cell_type": "code",
   "execution_count": 5,
   "metadata": {
    "colab": {
     "base_uri": "https://localhost:8080/"
    },
    "executionInfo": {
     "elapsed": 360,
     "status": "ok",
     "timestamp": 1667347681290,
     "user": {
      "displayName": "Alberto Navarro",
      "userId": "07299865193384909733"
     },
     "user_tz": 300
    },
    "id": "eAISjA_e9tL-",
    "outputId": "0ee8f02d-b52d-44b1-8133-3adb49f68a1f"
   },
   "outputs": [
    {
     "name": "stdout",
     "output_type": "stream",
     "text": [
      "Model: \"sequential\"\n",
      "_________________________________________________________________\n",
      " Layer (type)                Output Shape              Param #   \n",
      "=================================================================\n",
      " conv2d (Conv2D)             (None, 26, 26, 4)         40        \n",
      "                                                                 \n",
      " conv2d_1 (Conv2D)           (None, 24, 24, 8)         296       \n",
      "                                                                 \n",
      " conv2d_2 (Conv2D)           (None, 22, 22, 12)        876       \n",
      "                                                                 \n",
      " conv2d_3 (Conv2D)           (None, 20, 20, 16)        1744      \n",
      "                                                                 \n",
      " conv2d_4 (Conv2D)           (None, 18, 18, 20)        2900      \n",
      "                                                                 \n",
      " conv2d_5 (Conv2D)           (None, 16, 16, 24)        4344      \n",
      "                                                                 \n",
      " conv2d_6 (Conv2D)           (None, 14, 14, 28)        6076      \n",
      "                                                                 \n",
      " conv2d_7 (Conv2D)           (None, 12, 12, 32)        8096      \n",
      "                                                                 \n",
      " conv2d_8 (Conv2D)           (None, 10, 10, 36)        10404     \n",
      "                                                                 \n",
      " conv2d_9 (Conv2D)           (None, 8, 8, 40)          13000     \n",
      "                                                                 \n",
      " flatten (Flatten)           (None, 2560)              0         \n",
      "                                                                 \n",
      " dense (Dense)               (None, 10)                25610     \n",
      "                                                                 \n",
      "=================================================================\n",
      "Total params: 73,386\n",
      "Trainable params: 73,386\n",
      "Non-trainable params: 0\n",
      "_________________________________________________________________\n"
     ]
    },
    {
     "name": "stderr",
     "output_type": "stream",
     "text": [
      "2022-11-01 21:34:01.094425: E tensorflow/stream_executor/cuda/cuda_driver.cc:271] failed call to cuInit: CUDA_ERROR_NO_DEVICE: no CUDA-capable device is detected\n",
      "2022-11-01 21:34:01.094484: I tensorflow/stream_executor/cuda/cuda_diagnostics.cc:156] kernel driver does not appear to be running on this host (alberto-Inspiron): /proc/driver/nvidia/version does not exist\n",
      "2022-11-01 21:34:01.095718: I tensorflow/core/platform/cpu_feature_guard.cc:193] This TensorFlow binary is optimized with oneAPI Deep Neural Network Library (oneDNN) to use the following CPU instructions in performance-critical operations:  AVX2 AVX512F AVX512_VNNI FMA\n",
      "To enable them in other operations, rebuild TensorFlow with the appropriate compiler flags.\n"
     ]
    }
   ],
   "source": [
    "# Sequential Model\n",
    "model1 = keras.models.Sequential([\n",
    "        keras.Input(shape=(28,28,1)),\n",
    "        keras.layers.Conv2D(4, kernel_size=(3, 3), activation=\"relu\"),\n",
    "        keras.layers.Conv2D(8, kernel_size=(3, 3), activation=\"relu\"),\n",
    "        keras.layers.Conv2D(12, kernel_size=(3, 3), activation=\"relu\"),\n",
    "        keras.layers.Conv2D(16, kernel_size=(3, 3), activation=\"relu\"),\n",
    "        keras.layers.Conv2D(20, kernel_size=(3, 3), activation=\"relu\"),\n",
    "        keras.layers.Conv2D(24, kernel_size=(3, 3), activation=\"relu\"),\n",
    "        keras.layers.Conv2D(28, kernel_size=(3, 3), activation=\"relu\"),\n",
    "        keras.layers.Conv2D(32, kernel_size=(3, 3), activation=\"relu\"),\n",
    "        keras.layers.Conv2D(36, kernel_size=(3, 3), activation=\"relu\"),\n",
    "        keras.layers.Conv2D(40, kernel_size=(3, 3), activation=\"relu\"),\n",
    "        keras.layers.Flatten(),\n",
    "        keras.layers.Dense(10, activation=\"softmax\"),\n",
    "])\n",
    "\n",
    "\n",
    "\n",
    "model1.summary()"
   ]
  },
  {
   "cell_type": "code",
   "execution_count": 91,
   "metadata": {
    "executionInfo": {
     "elapsed": 135,
     "status": "ok",
     "timestamp": 1667347684374,
     "user": {
      "displayName": "Alberto Navarro",
      "userId": "07299865193384909733"
     },
     "user_tz": 300
    },
    "id": "5qyC5_TDqoaH"
   },
   "outputs": [],
   "source": [
    "model1.compile(\n",
    "    optimizer='adam',\n",
    "    loss='sparse_categorical_crossentropy',\n",
    "    metrics=['accuracy'])\n",
    "\n",
    "K.set_value(model1.optimizer.learning_rate, 0.0005)\n"
   ]
  },
  {
   "cell_type": "code",
   "execution_count": 92,
   "metadata": {
    "colab": {
     "base_uri": "https://localhost:8080/"
    },
    "id": "r9yI7G_KAIO1",
    "outputId": "0acba4bc-cfed-4229-b989-0457b87c3c5e"
   },
   "outputs": [
    {
     "name": "stdout",
     "output_type": "stream",
     "text": [
      "Epoch 1/5\n",
      "1875/1875 [==============================] - 16s 8ms/step - loss: 0.0612 - accuracy: 0.9813\n",
      "Epoch 2/5\n",
      "1875/1875 [==============================] - 18s 10ms/step - loss: 0.0583 - accuracy: 0.9815\n",
      "Epoch 3/5\n",
      "1875/1875 [==============================] - 21s 11ms/step - loss: 0.0567 - accuracy: 0.9827\n",
      "Epoch 4/5\n",
      "1875/1875 [==============================] - 21s 11ms/step - loss: 0.0541 - accuracy: 0.9827\n",
      "Epoch 5/5\n",
      "1875/1875 [==============================] - 22s 12ms/step - loss: 0.0522 - accuracy: 0.9840\n"
     ]
    },
    {
     "data": {
      "text/plain": [
       "<keras.callbacks.History at 0x7fe8c4907160>"
      ]
     },
     "execution_count": 92,
     "metadata": {},
     "output_type": "execute_result"
    }
   ],
   "source": [
    "# Define the Keras TensorBoard callback.\n",
    "logdir=\"logs/fit/\" + datetime.now().strftime(\"%Y%m%d-%H%M%S\")\n",
    "tensorboard_callback = keras.callbacks.TensorBoard(log_dir=logdir)\n",
    "\n",
    "# Train the model.\n",
    "model1.fit(\n",
    "    train_images,\n",
    "    train_labels, \n",
    "    batch_size=32,\n",
    "    epochs=5, \n",
    "    callbacks=[tensorboard_callback])"
   ]
  },
  {
   "cell_type": "markdown",
   "metadata": {
    "id": "9L2tB8Z0h7CZ"
   },
   "source": [
    "#### Results"
   ]
  },
  {
   "cell_type": "markdown",
   "metadata": {},
   "source": [
    "#### I will summarize the results based on the optimizer method\n",
    "\n",
    "##### Adam:\n",
    "For this method I tried different combinations of batch size and learning rate. These were the results:\n",
    "\n",
    "##### learning rate = 0.001\n",
    "\n",
    "batch_size = 32, epochs = 5 : Test loss: 6.490649223327637 ---- Test accuracy: 0.9702000021934509\n",
    "\n",
    "batch_size = 64, epochs = 5 : Test loss: 9.572504997253418 ---- Test accuracy: 0.9664000272750854\n",
    "\n",
    "\n",
    "##### learning rate = 0.0005\n",
    "\n",
    "batch_size = 32, epochs = 5 : Test loss: 194.7186737060547 Test accuracy: 0.13249999284744263\n",
    "\n",
    "batch_size = 64, epochs = 5 : Test loss: 185.1067657470703 ---- Test accuracy: 0.14560000598430634\n",
    "\n",
    "\n",
    "##### SGD:\n",
    "For this method I tried different combinations of batch size and learning rate. These were the results:\n",
    "\n",
    "##### learning rate = 0.001\n",
    "\n",
    "batch_size = 32, epochs = 5 : Test loss: 209.14405822753906 ---- Test accuracy: 0.1467999964952469\n",
    "\n",
    "batch_size = 64, epochs = 5 : Test loss: 184.36209106445312 ---- Test accuracy: 0.13920000195503235\n",
    "\n",
    "\n",
    "##### learning rate = 0.0005\n",
    "\n",
    "batch_size = 32, epochs = 5 : Test loss: 159.16867065429688 ---- Test accuracy: 0.1468999981880188\n",
    "\n",
    "batch_size = 64, epochs = 5 : Test loss: 187.08892822265625 ---- Test accuracy: 0.15070000290870667\n",
    "\n",
    "\n",
    "##### RMSProp:\n",
    "For this method I tried different combinations of batch size and learning rate. These were the results:\n",
    "\n",
    "##### learning rate = 0.001\n",
    "\n",
    "batch_size = 32, epochs = 5 : Test loss: 810.2504272460938 ---- Test accuracy: 0.15449999272823334\n",
    "\n",
    "batch_size = 64, epochs = 5 : Test loss: 1778.3662109375 ---- Test accuracy: 0.1468999981880188\n",
    "\n",
    "\n",
    "##### learning rate = 0.0005\n",
    "\n",
    "batch_size = 32, epochs = 5 : Test loss: 2353.105712890625 ---- Test accuracy: 0.14659999310970306\n",
    "\n",
    "batch_size = 64, epochs = 5 : Test loss: 2807.159423828125 ---- Test accuracy: 0.15719999372959137\n",
    "\n"
   ]
  },
  {
   "cell_type": "code",
   "execution_count": 93,
   "metadata": {
    "colab": {
     "base_uri": "https://localhost:8080/"
    },
    "executionInfo": {
     "elapsed": 5585,
     "status": "ok",
     "timestamp": 1667345193106,
     "user": {
      "displayName": "Alberto Navarro",
      "userId": "07299865193384909733"
     },
     "user_tz": 300
    },
    "id": "20VyDP0GAg7F",
    "outputId": "935bf132-e706-4ebe-958a-74a5c160dfa3",
    "scrolled": false
   },
   "outputs": [
    {
     "name": "stdout",
     "output_type": "stream",
     "text": [
      "313/313 [==============================] - 2s 5ms/step - loss: 2335.8582 - accuracy: 0.1546\n",
      "Test loss: 2335.858154296875\n",
      "Test accuracy: 0.15459999442100525\n"
     ]
    }
   ],
   "source": [
    "# Evaluate\n",
    "score = model1.evaluate(test_images, test_labels)\n",
    "print('Test loss:', score[0])\n",
    "print('Test accuracy:', score[1])"
   ]
  },
  {
   "cell_type": "markdown",
   "metadata": {
    "id": "JXOcdrqjAhBR"
   },
   "source": [
    "#### Final Observations"
   ]
  },
  {
   "cell_type": "markdown",
   "metadata": {},
   "source": []
  },
  {
   "cell_type": "markdown",
   "metadata": {
    "id": "N_jBwK0jh8As"
   },
   "source": [
    "### Model 2"
   ]
  },
  {
   "cell_type": "code",
   "execution_count": 44,
   "metadata": {
    "colab": {
     "base_uri": "https://localhost:8080/"
    },
    "executionInfo": {
     "elapsed": 28018,
     "status": "ok",
     "timestamp": 1667345674595,
     "user": {
      "displayName": "Alberto Navarro",
      "userId": "07299865193384909733"
     },
     "user_tz": 300
    },
    "id": "B9QETp4Mh7bd",
    "outputId": "85192168-dbd9-4cc0-e8f1-0601097413f0"
   },
   "outputs": [
    {
     "name": "stdout",
     "output_type": "stream",
     "text": [
      "Model: \"sequential_1\"\n",
      "_________________________________________________________________\n",
      " Layer (type)                Output Shape              Param #   \n",
      "=================================================================\n",
      " conv2d_10 (Conv2D)          (None, 26, 26, 40)        400       \n",
      "                                                                 \n",
      " conv2d_11 (Conv2D)          (None, 24, 24, 36)        12996     \n",
      "                                                                 \n",
      " conv2d_12 (Conv2D)          (None, 22, 22, 32)        10400     \n",
      "                                                                 \n",
      " conv2d_13 (Conv2D)          (None, 20, 20, 28)        8092      \n",
      "                                                                 \n",
      " conv2d_14 (Conv2D)          (None, 18, 18, 24)        6072      \n",
      "                                                                 \n",
      " conv2d_15 (Conv2D)          (None, 16, 16, 20)        4340      \n",
      "                                                                 \n",
      " conv2d_16 (Conv2D)          (None, 14, 14, 16)        2896      \n",
      "                                                                 \n",
      " conv2d_17 (Conv2D)          (None, 12, 12, 12)        1740      \n",
      "                                                                 \n",
      " conv2d_18 (Conv2D)          (None, 10, 10, 8)         872       \n",
      "                                                                 \n",
      " conv2d_19 (Conv2D)          (None, 8, 8, 4)           292       \n",
      "                                                                 \n",
      " flatten_1 (Flatten)         (None, 256)               0         \n",
      "                                                                 \n",
      " dense_1 (Dense)             (None, 10)                2570      \n",
      "                                                                 \n",
      "=================================================================\n",
      "Total params: 50,670\n",
      "Trainable params: 50,670\n",
      "Non-trainable params: 0\n",
      "_________________________________________________________________\n"
     ]
    }
   ],
   "source": [
    "# Sequential Model\n",
    "model2 = keras.models.Sequential([\n",
    "        keras.Input(shape=(28,28,1)),\n",
    "        keras.layers.Conv2D(40, kernel_size=(3, 3), activation=\"relu\"),\n",
    "        keras.layers.Conv2D(36, kernel_size=(3, 3), activation=\"relu\"),\n",
    "        keras.layers.Conv2D(32, kernel_size=(3, 3), activation=\"relu\"),\n",
    "        keras.layers.Conv2D(28, kernel_size=(3, 3), activation=\"relu\"),\n",
    "        keras.layers.Conv2D(24, kernel_size=(3, 3), activation=\"relu\"),\n",
    "        keras.layers.Conv2D(20, kernel_size=(3, 3), activation=\"relu\"),\n",
    "        keras.layers.Conv2D(16, kernel_size=(3, 3), activation=\"relu\"),\n",
    "        keras.layers.Conv2D(12, kernel_size=(3, 3), activation=\"relu\"),\n",
    "        keras.layers.Conv2D(8, kernel_size=(3, 3), activation=\"relu\"),\n",
    "        keras.layers.Conv2D(4, kernel_size=(3, 3), activation=\"relu\"),\n",
    "        keras.layers.Flatten(),\n",
    "        keras.layers.Dense(10, activation=\"softmax\"),\n",
    "])\n",
    "\n",
    "\n",
    "model2.summary()"
   ]
  },
  {
   "cell_type": "code",
   "execution_count": 81,
   "metadata": {
    "id": "3tQ7I37Bh-Py"
   },
   "outputs": [],
   "source": [
    "model2.compile(\n",
    "    optimizer='RMSprop',\n",
    "    loss='sparse_categorical_crossentropy',\n",
    "    metrics=['accuracy'])\n",
    "\n",
    "K.set_value(model2.optimizer.learning_rate, 0.0005)\n"
   ]
  },
  {
   "cell_type": "code",
   "execution_count": 82,
   "metadata": {
    "id": "qJ4K2vVriWut",
    "scrolled": true
   },
   "outputs": [
    {
     "name": "stdout",
     "output_type": "stream",
     "text": [
      "Epoch 1/5\n",
      "938/938 [==============================] - 43s 46ms/step - loss: 0.0063 - accuracy: 0.9984\n",
      "Epoch 2/5\n",
      "938/938 [==============================] - 43s 46ms/step - loss: 0.0039 - accuracy: 0.9989\n",
      "Epoch 3/5\n",
      "938/938 [==============================] - 40s 42ms/step - loss: 0.0034 - accuracy: 0.9991\n",
      "Epoch 4/5\n",
      "938/938 [==============================] - 40s 42ms/step - loss: 0.0042 - accuracy: 0.9989\n",
      "Epoch 5/5\n",
      "938/938 [==============================] - 44s 46ms/step - loss: 0.0037 - accuracy: 0.9992\n"
     ]
    },
    {
     "data": {
      "text/plain": [
       "<keras.callbacks.History at 0x7fe7f4ed9ea0>"
      ]
     },
     "execution_count": 82,
     "metadata": {},
     "output_type": "execute_result"
    }
   ],
   "source": [
    "# Define the Keras TensorBoard callback.\n",
    "logdir=\"logs/fit/\" + datetime.now().strftime(\"%Y%m%d-%H%M%S\")\n",
    "tensorboard_callback = keras.callbacks.TensorBoard(log_dir=logdir)\n",
    "\n",
    "# Train the model.\n",
    "model2.fit(\n",
    "    train_images,\n",
    "    train_labels, \n",
    "    batch_size=64,\n",
    "    epochs=5, \n",
    "    callbacks=[tensorboard_callback])"
   ]
  },
  {
   "cell_type": "markdown",
   "metadata": {},
   "source": [
    "#### Observations"
   ]
  },
  {
   "cell_type": "markdown",
   "metadata": {},
   "source": [
    "#### I will summarize the results based on the optimizer method\n",
    "\n",
    "##### Adam:\n",
    "For this method I tried different combinations of batch size and learning rate. These were the results:\n",
    "\n",
    "##### learning rate = 0.001\n",
    "\n",
    "batch_size = 32, epochs = 5 : Test loss: 6.4124321937561035 ---- Test accuracy: 0.9718999862670898\n",
    "\n",
    "batch_size = 64, epochs = 5 : Test loss: 8.255528450012207 ---- Test accuracy: 0.9638000130653381\n",
    "\n",
    "\n",
    "##### learning rate = 0.0005\n",
    "\n",
    "batch_size = 32, epochs = 5 : Test loss: 16.019819259643555 ---- Test accuracy: 0.9602000117301941\n",
    "\n",
    "batch_size = 64, epochs = 5 : Test loss: 14.98194408416748 ---- Test accuracy: 0.9707000255584717\n",
    "\n",
    "\n",
    "##### SGD:\n",
    "For this method I tried different combinations of batch size and learning rate. These were the results:\n",
    "\n",
    "##### learning rate = 0.001\n",
    "\n",
    "batch_size = 32, epochs = 5 : Test loss: 11.841575622558594 ---- Test accuracy: 0.979200005531311\n",
    "\n",
    "batch_size = 64, epochs = 5 : Test loss: 12.16141414642334 ---- Test accuracy: 0.979200005531311\n",
    "\n",
    "\n",
    "##### learning rate = 0.0005\n",
    "\n",
    "batch_size = 32, epochs = 5 : Test loss: 12.396894454956055 ---- Test accuracy: 0.9793000221252441\n",
    "\n",
    "batch_size = 64, epochs = 5 : Test loss: 12.465036392211914 ---- Test accuracy: 0.979200005531311\n",
    "\n",
    "\n",
    "##### RMSProp:\n",
    "For this method I tried different combinations of batch size and learning rate. These were the results:\n",
    "\n",
    "##### learning rate = 0.001\n",
    "\n",
    "batch_size = 32, epochs = 5 : Test loss: 15.826443672180176 ---- Test accuracy: 0.9598000049591064\n",
    "\n",
    "batch_size = 64, epochs = 5 : Test loss: 36.027587890625 ---- Test accuracy: 0.9584000110626221\n",
    "\n",
    "\n",
    "##### learning rate = 0.0005\n",
    "\n",
    "batch_size = 32, epochs = 5 : Test loss: 37.842185974121094 ---- Test accuracy: 0.9768000245094299\n",
    "\n",
    "batch_size = 64, epochs = 5 : Test loss: 37.7193717956543 ---- Test accuracy: 0.9805999994277954"
   ]
  },
  {
   "cell_type": "code",
   "execution_count": 83,
   "metadata": {
    "id": "3UWZMX4GiW_t"
   },
   "outputs": [
    {
     "name": "stdout",
     "output_type": "stream",
     "text": [
      "313/313 [==============================] - 4s 13ms/step - loss: 37.7194 - accuracy: 0.9806\n",
      "Test loss: 37.7193717956543\n",
      "Test accuracy: 0.9805999994277954\n"
     ]
    }
   ],
   "source": [
    "# Evaluate\n",
    "score = model2.evaluate(test_images, test_labels)\n",
    "print('Test loss:', score[0])\n",
    "print('Test accuracy:', score[1])"
   ]
  },
  {
   "cell_type": "markdown",
   "metadata": {},
   "source": [
    "#### Final Observations"
   ]
  },
  {
   "cell_type": "markdown",
   "metadata": {},
   "source": []
  },
  {
   "cell_type": "markdown",
   "metadata": {
    "id": "DugttsffiXza"
   },
   "source": [
    "### Model 3"
   ]
  },
  {
   "cell_type": "code",
   "execution_count": 84,
   "metadata": {
    "colab": {
     "base_uri": "https://localhost:8080/"
    },
    "executionInfo": {
     "elapsed": 200,
     "status": "ok",
     "timestamp": 1667345674787,
     "user": {
      "displayName": "Alberto Navarro",
      "userId": "07299865193384909733"
     },
     "user_tz": 300
    },
    "id": "dMUfG8mfiXQw",
    "outputId": "e58ff701-1c60-400d-bef7-b19239c64801"
   },
   "outputs": [
    {
     "name": "stdout",
     "output_type": "stream",
     "text": [
      "Model: \"sequential_2\"\n",
      "_________________________________________________________________\n",
      " Layer (type)                Output Shape              Param #   \n",
      "=================================================================\n",
      " conv2d_20 (Conv2D)          (None, 26, 26, 4)         40        \n",
      "                                                                 \n",
      " conv2d_21 (Conv2D)          (None, 24, 24, 8)         296       \n",
      "                                                                 \n",
      " conv2d_22 (Conv2D)          (None, 22, 22, 12)        876       \n",
      "                                                                 \n",
      " conv2d_23 (Conv2D)          (None, 20, 20, 16)        1744      \n",
      "                                                                 \n",
      " conv2d_24 (Conv2D)          (None, 18, 18, 20)        2900      \n",
      "                                                                 \n",
      " conv2d_25 (Conv2D)          (None, 16, 16, 24)        4344      \n",
      "                                                                 \n",
      " conv2d_26 (Conv2D)          (None, 14, 14, 20)        4340      \n",
      "                                                                 \n",
      " conv2d_27 (Conv2D)          (None, 12, 12, 16)        2896      \n",
      "                                                                 \n",
      " conv2d_28 (Conv2D)          (None, 10, 10, 12)        1740      \n",
      "                                                                 \n",
      " conv2d_29 (Conv2D)          (None, 8, 8, 8)           872       \n",
      "                                                                 \n",
      " flatten_2 (Flatten)         (None, 512)               0         \n",
      "                                                                 \n",
      " dense_2 (Dense)             (None, 10)                5130      \n",
      "                                                                 \n",
      "=================================================================\n",
      "Total params: 25,178\n",
      "Trainable params: 25,178\n",
      "Non-trainable params: 0\n",
      "_________________________________________________________________\n"
     ]
    }
   ],
   "source": [
    "# Sequential Model\n",
    "model3 = keras.models.Sequential([\n",
    "        keras.Input(shape=(28,28,1)),\n",
    "        keras.layers.Conv2D(4, kernel_size=(3, 3), activation=\"relu\"),\n",
    "        keras.layers.Conv2D(8, kernel_size=(3, 3), activation=\"relu\"),\n",
    "        keras.layers.Conv2D(12, kernel_size=(3, 3), activation=\"relu\"),\n",
    "        keras.layers.Conv2D(16, kernel_size=(3, 3), activation=\"relu\"),\n",
    "        keras.layers.Conv2D(20, kernel_size=(3, 3), activation=\"relu\"),\n",
    "        keras.layers.Conv2D(24, kernel_size=(3, 3), activation=\"relu\"),\n",
    "        keras.layers.Conv2D(20, kernel_size=(3, 3), activation=\"relu\"),\n",
    "        keras.layers.Conv2D(16, kernel_size=(3, 3), activation=\"relu\"),\n",
    "        keras.layers.Conv2D(12, kernel_size=(3, 3), activation=\"relu\"),\n",
    "        keras.layers.Conv2D(8, kernel_size=(3, 3), activation=\"relu\"),\n",
    "        keras.layers.Flatten(),\n",
    "        keras.layers.Dense(10, activation=\"softmax\"),\n",
    "])\n",
    "\n",
    "\n",
    "\n",
    "model3.summary()"
   ]
  },
  {
   "cell_type": "code",
   "execution_count": 121,
   "metadata": {},
   "outputs": [],
   "source": [
    "model3.compile(\n",
    "    optimizer='RMSprop',\n",
    "    loss='sparse_categorical_crossentropy',\n",
    "    metrics=['accuracy'])\n",
    "\n",
    "K.set_value(model3.optimizer.learning_rate, 0.0005)"
   ]
  },
  {
   "cell_type": "code",
   "execution_count": 122,
   "metadata": {},
   "outputs": [
    {
     "name": "stdout",
     "output_type": "stream",
     "text": [
      "Epoch 1/5\n",
      "938/938 [==============================] - 12s 12ms/step - loss: 0.0060 - accuracy: 0.9984\n",
      "Epoch 2/5\n",
      "938/938 [==============================] - 14s 15ms/step - loss: 0.0044 - accuracy: 0.9990\n",
      "Epoch 3/5\n",
      "938/938 [==============================] - 14s 15ms/step - loss: 0.0042 - accuracy: 0.9990\n",
      "Epoch 4/5\n",
      "938/938 [==============================] - 14s 15ms/step - loss: 0.0045 - accuracy: 0.9988\n",
      "Epoch 5/5\n",
      "938/938 [==============================] - 14s 15ms/step - loss: 0.0044 - accuracy: 0.9990\n"
     ]
    },
    {
     "data": {
      "text/plain": [
       "<keras.callbacks.History at 0x7fe6df8cbf70>"
      ]
     },
     "execution_count": 122,
     "metadata": {},
     "output_type": "execute_result"
    }
   ],
   "source": [
    "# Define the Keras TensorBoard callback.\n",
    "logdir=\"logs/fit/\" + datetime.now().strftime(\"%Y%m%d-%H%M%S\")\n",
    "tensorboard_callback = keras.callbacks.TensorBoard(log_dir=logdir)\n",
    "\n",
    "# Train the model.\n",
    "model3.fit(\n",
    "    train_images,\n",
    "    train_labels, \n",
    "    batch_size=64,\n",
    "    epochs=5, \n",
    "    callbacks=[tensorboard_callback])"
   ]
  },
  {
   "cell_type": "markdown",
   "metadata": {},
   "source": [
    "#### Observations"
   ]
  },
  {
   "cell_type": "markdown",
   "metadata": {},
   "source": [
    "#### I will summarize the results based on the optimizer method\n",
    "\n",
    "##### Adam:\n",
    "For this method I tried different combinations of batch size and learning rate. These were the results:\n",
    "\n",
    "##### learning rate = 0.001\n",
    "\n",
    "batch_size = 32, epochs = 5 : Test loss: 7.333022594451904 ---- Test accuracy: 0.9681000113487244\n",
    "\n",
    "batch_size = 64, epochs = 5 : Test loss: 18.73436164855957 ---- Test accuracy: 0.9402999877929688\n",
    "\n",
    "\n",
    "##### learning rate = 0.0005\n",
    "\n",
    "batch_size = 32, epochs = 5 : Test loss: 13.888640403747559 ---- Test accuracy: 0.9501000046730042\n",
    "\n",
    "batch_size = 64, epochs = 5 : Test loss: 18.489398956298828 ---- Test accuracy: 0.9591000080108643\n",
    "\n",
    "\n",
    "##### SGD:\n",
    "For this method I tried different combinations of batch size and learning rate. These were the results:\n",
    "\n",
    "##### learning rate = 0.001\n",
    "\n",
    "batch_size = 32, epochs = 5 : Test loss: 15.506414413452148 ---- Test accuracy: 0.968500018119812\n",
    "\n",
    "batch_size = 64, epochs = 5 : Test loss: 15.83298397064209 ---- Test accuracy: 0.9690999984741211\n",
    "\n",
    "\n",
    "##### learning rate = 0.0005\n",
    "\n",
    "batch_size = 32, epochs = 5 : Test loss: 16.004711151123047 ---- Test accuracy: 0.9693999886512756\n",
    "\n",
    "batch_size = 64, epochs = 5 : Test loss: 16.097017288208008 ---- Test accuracy: 0.9696000218391418\n",
    "\n",
    "\n",
    "##### RMSProp:\n",
    "For this method I tried different combinations of batch size and learning rate. These were the results:\n",
    "\n",
    "##### learning rate = 0.001\n",
    "\n",
    "batch_size = 32, epochs = 5 : Test loss: 54.20248794555664 ---- Test accuracy: 0.8810999989509583\n",
    "\n",
    "batch_size = 64, epochs = 5 : Test loss: 36.41796875 ---- Test accuracy: 0.9447000026702881\n",
    "\n",
    "\n",
    "##### learning rate = 0.0005\n",
    "\n",
    "batch_size = 32, epochs = 5 : Test loss: 69.07653045654297 ---- Test accuracy: 0.9448000192642212\n",
    "\n",
    "batch_size = 64, epochs = 5 : Test loss: 76.99116516113281 ---- Test accuracy: 0.9491000175476074"
   ]
  },
  {
   "cell_type": "code",
   "execution_count": 123,
   "metadata": {},
   "outputs": [
    {
     "name": "stdout",
     "output_type": "stream",
     "text": [
      "313/313 [==============================] - 1s 4ms/step - loss: 76.9912 - accuracy: 0.9491\n",
      "Test loss: 76.99116516113281\n",
      "Test accuracy: 0.9491000175476074\n"
     ]
    }
   ],
   "source": [
    "# Evaluate\n",
    "score = model3.evaluate(test_images, test_labels)\n",
    "print('Test loss:', score[0])\n",
    "print('Test accuracy:', score[1])"
   ]
  },
  {
   "cell_type": "markdown",
   "metadata": {},
   "source": [
    "#### Final Observations"
   ]
  },
  {
   "cell_type": "markdown",
   "metadata": {},
   "source": []
  },
  {
   "cell_type": "markdown",
   "metadata": {
    "id": "XSXJwtX28smS"
   },
   "source": [
    "# Question 2"
   ]
  },
  {
   "cell_type": "code",
   "execution_count": 124,
   "metadata": {
    "colab": {
     "base_uri": "https://localhost:8080/"
    },
    "executionInfo": {
     "elapsed": 6561,
     "status": "ok",
     "timestamp": 1667247104525,
     "user": {
      "displayName": "Alberto Navarro",
      "userId": "07299865193384909733"
     },
     "user_tz": 300
    },
    "id": "tE4cYwXn8mLx",
    "outputId": "53d67ff4-a382-43a0-82ab-499e98d52ad1"
   },
   "outputs": [
    {
     "data": {
      "text/plain": [
       "array([[0., 0., 0., ..., 0., 0., 0.],\n",
       "       [0., 0., 0., ..., 0., 0., 1.],\n",
       "       [0., 0., 0., ..., 0., 0., 1.],\n",
       "       ...,\n",
       "       [0., 0., 0., ..., 0., 0., 1.],\n",
       "       [0., 1., 0., ..., 0., 0., 0.],\n",
       "       [0., 1., 0., ..., 0., 0., 0.]], dtype=float32)"
      ]
     },
     "execution_count": 124,
     "metadata": {},
     "output_type": "execute_result"
    }
   ],
   "source": [
    "(x_train, y_train), (x_test, y_test) = keras.datasets.cifar10.load_data()\n",
    "assert x_train.shape == (50000, 32, 32, 3)\n",
    "assert x_test.shape == (10000, 32, 32, 3)\n",
    "assert y_train.shape == (50000, 1)\n",
    "assert y_test.shape == (10000, 1)\n",
    "\n",
    "x_train = x_train / 255.0\n",
    "tf.keras.utils.to_categorical(y_train)"
   ]
  },
  {
   "cell_type": "code",
   "execution_count": 125,
   "metadata": {
    "id": "drU9V5u38mrc"
   },
   "outputs": [
    {
     "name": "stdout",
     "output_type": "stream",
     "text": [
      "Model: \"sequential_3\"\n",
      "_________________________________________________________________\n",
      " Layer (type)                Output Shape              Param #   \n",
      "=================================================================\n",
      " conv2d_30 (Conv2D)          (None, 28, 28, 6)         456       \n",
      "                                                                 \n",
      " max_pooling2d (MaxPooling2D  (None, 14, 14, 6)        0         \n",
      " )                                                               \n",
      "                                                                 \n",
      " conv2d_31 (Conv2D)          (None, 10, 10, 16)        2416      \n",
      "                                                                 \n",
      " max_pooling2d_1 (MaxPooling  (None, 5, 5, 16)         0         \n",
      " 2D)                                                             \n",
      "                                                                 \n",
      " conv2d_32 (Conv2D)          (None, 1, 1, 120)         48120     \n",
      "                                                                 \n",
      " flatten_3 (Flatten)         (None, 120)               0         \n",
      "                                                                 \n",
      " dense_3 (Dense)             (None, 84)                10164     \n",
      "                                                                 \n",
      " dense_4 (Dense)             (None, 10)                850       \n",
      "                                                                 \n",
      "=================================================================\n",
      "Total params: 62,006\n",
      "Trainable params: 62,006\n",
      "Non-trainable params: 0\n",
      "_________________________________________________________________\n"
     ]
    }
   ],
   "source": [
    "model = keras.Sequential()\n",
    "\n",
    "model.add(keras.layers.Conv2D(filters=6, kernel_size=(5, 5), strides=(1, 1), activation='relu', input_shape=(32,32,3)))\n",
    "model.add(keras.layers.MaxPooling2D(pool_size=(2, 2), strides=(2,2)))\n",
    "model.add(keras.layers.Conv2D(filters=16, kernel_size=(5, 5), strides=(1, 1), activation='relu'))\n",
    "model.add(keras.layers.MaxPooling2D(pool_size=(2, 2), strides=(2,2)))\n",
    "model.add(keras.layers.Conv2D(filters=120, kernel_size=(5, 5), activation='relu'))\n",
    "model.add(keras.layers.Flatten())\n",
    "model.add(keras.layers.Dense(units=84, activation='relu'))\n",
    "model.add(keras.layers.Dense(units=10, activation = 'softmax'))\n",
    "\n",
    "model.summary()"
   ]
  },
  {
   "cell_type": "code",
   "execution_count": 126,
   "metadata": {},
   "outputs": [],
   "source": [
    "model.compile(\n",
    "    optimizer='adam',\n",
    "    loss='sparse_categorical_crossentropy',\n",
    "    metrics=['accuracy'])\n",
    "\n",
    "K.set_value(model.optimizer.learning_rate, 0.0001)"
   ]
  },
  {
   "cell_type": "code",
   "execution_count": 127,
   "metadata": {},
   "outputs": [
    {
     "name": "stdout",
     "output_type": "stream",
     "text": [
      "Epoch 1/25\n",
      "782/782 [==============================] - 3s 4ms/step - loss: 1.9831 - accuracy: 0.2828\n",
      "Epoch 2/25\n",
      "782/782 [==============================] - 3s 4ms/step - loss: 1.6646 - accuracy: 0.4028\n",
      "Epoch 3/25\n",
      "782/782 [==============================] - 3s 4ms/step - loss: 1.5702 - accuracy: 0.4350\n",
      "Epoch 4/25\n",
      "782/782 [==============================] - 3s 4ms/step - loss: 1.5150 - accuracy: 0.4522\n",
      "Epoch 5/25\n",
      "782/782 [==============================] - 3s 4ms/step - loss: 1.4765 - accuracy: 0.4691\n",
      "Epoch 6/25\n",
      "782/782 [==============================] - 3s 4ms/step - loss: 1.4457 - accuracy: 0.4818\n",
      "Epoch 7/25\n",
      "782/782 [==============================] - 3s 4ms/step - loss: 1.4188 - accuracy: 0.4911\n",
      "Epoch 8/25\n",
      "782/782 [==============================] - 3s 4ms/step - loss: 1.3981 - accuracy: 0.4990\n",
      "Epoch 9/25\n",
      "782/782 [==============================] - 3s 4ms/step - loss: 1.3799 - accuracy: 0.5080\n",
      "Epoch 10/25\n",
      "782/782 [==============================] - 3s 4ms/step - loss: 1.3595 - accuracy: 0.5135\n",
      "Epoch 11/25\n",
      "782/782 [==============================] - 3s 3ms/step - loss: 1.3440 - accuracy: 0.5211\n",
      "Epoch 12/25\n",
      "782/782 [==============================] - 3s 4ms/step - loss: 1.3265 - accuracy: 0.5278\n",
      "Epoch 13/25\n",
      "782/782 [==============================] - 3s 4ms/step - loss: 1.3125 - accuracy: 0.5337\n",
      "Epoch 14/25\n",
      "782/782 [==============================] - 3s 4ms/step - loss: 1.2993 - accuracy: 0.5377\n",
      "Epoch 15/25\n",
      "782/782 [==============================] - 3s 4ms/step - loss: 1.2845 - accuracy: 0.5442\n",
      "Epoch 16/25\n",
      "782/782 [==============================] - 3s 4ms/step - loss: 1.2711 - accuracy: 0.5488\n",
      "Epoch 17/25\n",
      "782/782 [==============================] - 4s 5ms/step - loss: 1.2589 - accuracy: 0.5520\n",
      "Epoch 18/25\n",
      "782/782 [==============================] - 4s 5ms/step - loss: 1.2472 - accuracy: 0.5570\n",
      "Epoch 19/25\n",
      "782/782 [==============================] - 4s 5ms/step - loss: 1.2365 - accuracy: 0.5612\n",
      "Epoch 20/25\n",
      "782/782 [==============================] - 4s 5ms/step - loss: 1.2246 - accuracy: 0.5662\n",
      "Epoch 21/25\n",
      "782/782 [==============================] - 4s 5ms/step - loss: 1.2140 - accuracy: 0.5694\n",
      "Epoch 22/25\n",
      "782/782 [==============================] - 4s 5ms/step - loss: 1.2044 - accuracy: 0.5725\n",
      "Epoch 23/25\n",
      "782/782 [==============================] - 4s 5ms/step - loss: 1.1929 - accuracy: 0.5781\n",
      "Epoch 24/25\n",
      "782/782 [==============================] - 4s 5ms/step - loss: 1.1834 - accuracy: 0.5807\n",
      "Epoch 25/25\n",
      "782/782 [==============================] - 4s 5ms/step - loss: 1.1756 - accuracy: 0.5861\n"
     ]
    },
    {
     "data": {
      "text/plain": [
       "<keras.callbacks.History at 0x7fe6df8f5300>"
      ]
     },
     "execution_count": 127,
     "metadata": {},
     "output_type": "execute_result"
    }
   ],
   "source": [
    "# Define the Keras TensorBoard callback.\n",
    "logdir=\"logs/fit/\" + datetime.now().strftime(\"%Y%m%d-%H%M%S\")\n",
    "tensorboard_callback = keras.callbacks.TensorBoard(log_dir=logdir)\n",
    "\n",
    "# Train the model.\n",
    "model.fit(\n",
    "    x_train,\n",
    "    y_train, \n",
    "    batch_size=64,\n",
    "    epochs=25, \n",
    "    callbacks=[tensorboard_callback])"
   ]
  },
  {
   "cell_type": "code",
   "execution_count": 128,
   "metadata": {},
   "outputs": [
    {
     "name": "stdout",
     "output_type": "stream",
     "text": [
      "313/313 [==============================] - 1s 2ms/step - loss: 276.4186 - accuracy: 0.4236\n",
      "Test loss: 276.41864013671875\n",
      "Test accuracy: 0.4235999882221222\n"
     ]
    }
   ],
   "source": [
    "# Evaluate\n",
    "score = model.evaluate(x_test, y_test)\n",
    "print('Test loss:', score[0])\n",
    "print('Test accuracy:', score[1])"
   ]
  },
  {
   "cell_type": "markdown",
   "metadata": {},
   "source": [
    "### What is the effect of learning rate on the training process? Which performed best?"
   ]
  },
  {
   "cell_type": "code",
   "execution_count": null,
   "metadata": {},
   "outputs": [
    {
     "name": "stdout",
     "output_type": "stream",
     "text": [
      "Epoch 1/25\n",
      "49/49 [==============================] - 2s 35ms/step - loss: 1.1495 - accuracy: 0.5944\n",
      "Epoch 2/25\n",
      "49/49 [==============================] - 2s 39ms/step - loss: 1.1437 - accuracy: 0.5971\n",
      "Epoch 3/25\n",
      "49/49 [==============================] - 2s 39ms/step - loss: 1.1409 - accuracy: 0.5996\n",
      "Epoch 4/25\n",
      "49/49 [==============================] - 2s 47ms/step - loss: 1.1375 - accuracy: 0.5996\n",
      "Epoch 5/25\n",
      "49/49 [==============================] - 2s 49ms/step - loss: 1.1382 - accuracy: 0.5999\n",
      "Epoch 6/25\n",
      "49/49 [==============================] - 2s 45ms/step - loss: 1.1352 - accuracy: 0.6018\n",
      "Epoch 7/25\n",
      "49/49 [==============================] - 2s 48ms/step - loss: 1.1323 - accuracy: 0.6014\n",
      "Epoch 8/25\n",
      "49/49 [==============================] - 2s 46ms/step - loss: 1.1296 - accuracy: 0.6036\n",
      "Epoch 9/25\n",
      "49/49 [==============================] - 2s 46ms/step - loss: 1.1283 - accuracy: 0.6033\n",
      "Epoch 10/25\n",
      "49/49 [==============================] - 2s 46ms/step - loss: 1.1245 - accuracy: 0.6051\n",
      "Epoch 11/25\n",
      "49/49 [==============================] - 2s 46ms/step - loss: 1.1257 - accuracy: 0.6032\n",
      "Epoch 12/25\n",
      "49/49 [==============================] - 2s 45ms/step - loss: 1.1214 - accuracy: 0.6048\n",
      "Epoch 13/25\n",
      "49/49 [==============================] - 2s 49ms/step - loss: 1.1189 - accuracy: 0.6072\n",
      "Epoch 14/25\n",
      "49/49 [==============================] - 2s 45ms/step - loss: 1.1197 - accuracy: 0.6075\n",
      "Epoch 15/25\n",
      "49/49 [==============================] - 2s 49ms/step - loss: 1.1156 - accuracy: 0.6080\n",
      "Epoch 16/25\n",
      "49/49 [==============================] - 2s 45ms/step - loss: 1.1124 - accuracy: 0.6086\n",
      "Epoch 17/25\n",
      "49/49 [==============================] - 2s 47ms/step - loss: 1.1123 - accuracy: 0.6081\n",
      "Epoch 18/25\n",
      "49/49 [==============================] - 2s 47ms/step - loss: 1.1112 - accuracy: 0.6092\n",
      "Epoch 19/25\n",
      "49/49 [==============================] - 2s 44ms/step - loss: 1.1080 - accuracy: 0.6097\n",
      "Epoch 20/25\n",
      "49/49 [==============================] - 2s 47ms/step - loss: 1.1076 - accuracy: 0.6096\n",
      "Epoch 21/25\n",
      "49/49 [==============================] - 2s 47ms/step - loss: 1.1053 - accuracy: 0.6110\n",
      "Epoch 22/25\n",
      "49/49 [==============================] - 2s 48ms/step - loss: 1.1026 - accuracy: 0.6133\n",
      "Epoch 23/25\n",
      "49/49 [==============================] - 2s 46ms/step - loss: 1.1002 - accuracy: 0.6131\n",
      "Epoch 24/25\n",
      "49/49 [==============================] - 2s 48ms/step - loss: 1.1000 - accuracy: 0.6144\n",
      "Epoch 25/25\n",
      "49/49 [==============================] - 2s 46ms/step - loss: 1.0976 - accuracy: 0.6143\n",
      "313/313 [==============================] - 1s 2ms/step - loss: 286.6805 - accuracy: 0.4326\n",
      "Epoch 1/25\n",
      "49/49 [==============================] - 2s 46ms/step - loss: 1.1058 - accuracy: 0.6121\n",
      "Epoch 2/25\n",
      "49/49 [==============================] - 2s 46ms/step - loss: 1.0966 - accuracy: 0.6164\n",
      "Epoch 3/25\n",
      "49/49 [==============================] - 2s 46ms/step - loss: 1.0930 - accuracy: 0.6152\n",
      "Epoch 4/25\n",
      "49/49 [==============================] - 2s 46ms/step - loss: 1.0941 - accuracy: 0.6148\n",
      "Epoch 5/25\n",
      "49/49 [==============================] - 2s 47ms/step - loss: 1.0923 - accuracy: 0.6171\n",
      "Epoch 6/25\n",
      "49/49 [==============================] - 2s 45ms/step - loss: 1.0839 - accuracy: 0.6188\n",
      "Epoch 7/25\n",
      "49/49 [==============================] - 2s 47ms/step - loss: 1.0836 - accuracy: 0.6202\n",
      "Epoch 8/25\n",
      "49/49 [==============================] - 2s 47ms/step - loss: 1.0805 - accuracy: 0.6206\n",
      "Epoch 9/25\n",
      "49/49 [==============================] - 2s 45ms/step - loss: 1.0800 - accuracy: 0.6206\n",
      "Epoch 10/25\n",
      "49/49 [==============================] - 2s 47ms/step - loss: 1.0744 - accuracy: 0.6235\n",
      "Epoch 11/25\n",
      "49/49 [==============================] - 2s 47ms/step - loss: 1.0705 - accuracy: 0.6235\n",
      "Epoch 12/25\n",
      "49/49 [==============================] - 2s 48ms/step - loss: 1.0694 - accuracy: 0.6249\n",
      "Epoch 13/25\n",
      "49/49 [==============================] - 2s 49ms/step - loss: 1.0670 - accuracy: 0.6262\n",
      "Epoch 14/25\n",
      "49/49 [==============================] - 2s 47ms/step - loss: 1.0667 - accuracy: 0.6261\n",
      "Epoch 15/25\n",
      "49/49 [==============================] - 2s 46ms/step - loss: 1.0621 - accuracy: 0.6267\n",
      "Epoch 16/25\n",
      "49/49 [==============================] - 2s 45ms/step - loss: 1.0575 - accuracy: 0.6289\n",
      "Epoch 17/25\n",
      "49/49 [==============================] - 2s 47ms/step - loss: 1.0575 - accuracy: 0.6299\n",
      "Epoch 18/25\n",
      "49/49 [==============================] - 2s 44ms/step - loss: 1.0537 - accuracy: 0.6305\n",
      "Epoch 19/25\n",
      "49/49 [==============================] - 2s 47ms/step - loss: 1.0517 - accuracy: 0.6308\n",
      "Epoch 20/25\n",
      "49/49 [==============================] - 2s 48ms/step - loss: 1.0469 - accuracy: 0.6331\n",
      "Epoch 21/25\n",
      "49/49 [==============================] - 2s 44ms/step - loss: 1.0498 - accuracy: 0.6344\n",
      "Epoch 22/25\n",
      "49/49 [==============================] - 2s 48ms/step - loss: 1.0453 - accuracy: 0.6349\n",
      "Epoch 23/25\n",
      "49/49 [==============================] - 2s 46ms/step - loss: 1.0382 - accuracy: 0.6369\n",
      "Epoch 24/25\n",
      "49/49 [==============================] - 2s 50ms/step - loss: 1.0402 - accuracy: 0.6357\n",
      "Epoch 25/25\n",
      "49/49 [==============================] - 2s 45ms/step - loss: 1.0338 - accuracy: 0.6378\n",
      "313/313 [==============================] - 1s 1ms/step - loss: 317.2761 - accuracy: 0.4245\n",
      "Epoch 1/25\n",
      "49/49 [==============================] - 2s 46ms/step - loss: 1.0553 - accuracy: 0.6296\n",
      "Epoch 2/25\n",
      "49/49 [==============================] - 2s 45ms/step - loss: 1.0309 - accuracy: 0.6394\n",
      "Epoch 3/25\n",
      "49/49 [==============================] - 2s 47ms/step - loss: 1.0334 - accuracy: 0.6391\n",
      "Epoch 4/25\n",
      "49/49 [==============================] - 2s 46ms/step - loss: 1.0274 - accuracy: 0.6413\n",
      "Epoch 5/25\n",
      "49/49 [==============================] - 2s 44ms/step - loss: 1.0250 - accuracy: 0.6427\n",
      "Epoch 6/25\n",
      "49/49 [==============================] - 2s 46ms/step - loss: 1.0214 - accuracy: 0.6424\n",
      "Epoch 7/25\n",
      "49/49 [==============================] - 2s 45ms/step - loss: 1.0185 - accuracy: 0.6444\n",
      "Epoch 8/25\n",
      "49/49 [==============================] - 2s 48ms/step - loss: 1.0159 - accuracy: 0.6461\n",
      "Epoch 9/25\n",
      "49/49 [==============================] - 2s 51ms/step - loss: 1.0175 - accuracy: 0.6446\n",
      "Epoch 10/25\n",
      "49/49 [==============================] - 2s 49ms/step - loss: 1.0115 - accuracy: 0.6480\n",
      "Epoch 11/25\n",
      "49/49 [==============================] - 2s 45ms/step - loss: 1.0085 - accuracy: 0.6470\n",
      "Epoch 12/25\n",
      "49/49 [==============================] - 2s 46ms/step - loss: 1.0064 - accuracy: 0.6499\n",
      "Epoch 13/25\n",
      "49/49 [==============================] - 2s 47ms/step - loss: 1.0038 - accuracy: 0.6493\n",
      "Epoch 14/25\n",
      "49/49 [==============================] - 2s 47ms/step - loss: 1.0021 - accuracy: 0.6497\n",
      "Epoch 15/25\n",
      "49/49 [==============================] - 2s 48ms/step - loss: 1.0011 - accuracy: 0.6494\n",
      "Epoch 16/25\n",
      "49/49 [==============================] - 2s 47ms/step - loss: 0.9958 - accuracy: 0.6532\n",
      "Epoch 17/25\n",
      "49/49 [==============================] - 2s 50ms/step - loss: 0.9913 - accuracy: 0.6543\n",
      "Epoch 18/25\n",
      "49/49 [==============================] - 2s 45ms/step - loss: 0.9904 - accuracy: 0.6565\n",
      "Epoch 19/25\n",
      "49/49 [==============================] - 2s 46ms/step - loss: 0.9842 - accuracy: 0.6583\n",
      "Epoch 20/25\n",
      "49/49 [==============================] - 2s 46ms/step - loss: 0.9803 - accuracy: 0.6587\n",
      "Epoch 21/25\n",
      "49/49 [==============================] - 2s 46ms/step - loss: 0.9768 - accuracy: 0.6606\n",
      "Epoch 22/25\n",
      "49/49 [==============================] - 2s 47ms/step - loss: 0.9775 - accuracy: 0.6589\n",
      "Epoch 23/25\n",
      "49/49 [==============================] - 2s 46ms/step - loss: 0.9742 - accuracy: 0.6611\n",
      "Epoch 24/25\n",
      "49/49 [==============================] - 2s 46ms/step - loss: 0.9710 - accuracy: 0.6634\n",
      "Epoch 25/25\n",
      "49/49 [==============================] - 2s 45ms/step - loss: 0.9680 - accuracy: 0.6630\n",
      "313/313 [==============================] - 1s 1ms/step - loss: 346.6735 - accuracy: 0.4207\n",
      "Epoch 1/25\n",
      "49/49 [==============================] - 3s 47ms/step - loss: 1.0186 - accuracy: 0.6463\n",
      "Epoch 2/25\n",
      "49/49 [==============================] - 2s 45ms/step - loss: 0.9643 - accuracy: 0.6651\n",
      "Epoch 3/25\n",
      "49/49 [==============================] - 2s 46ms/step - loss: 0.9627 - accuracy: 0.6667\n",
      "Epoch 4/25\n",
      "49/49 [==============================] - 2s 45ms/step - loss: 0.9591 - accuracy: 0.6672\n",
      "Epoch 5/25\n"
     ]
    },
    {
     "name": "stdout",
     "output_type": "stream",
     "text": [
      "49/49 [==============================] - 2s 49ms/step - loss: 0.9590 - accuracy: 0.6674\n",
      "Epoch 6/25\n",
      "49/49 [==============================] - 2s 44ms/step - loss: 0.9565 - accuracy: 0.6682\n",
      "Epoch 7/25\n",
      "49/49 [==============================] - 2s 46ms/step - loss: 0.9539 - accuracy: 0.6677\n",
      "Epoch 8/25\n",
      "49/49 [==============================] - 2s 44ms/step - loss: 0.9484 - accuracy: 0.6701\n",
      "Epoch 9/25\n",
      "49/49 [==============================] - 2s 48ms/step - loss: 0.9517 - accuracy: 0.6679\n",
      "Epoch 10/25\n",
      "49/49 [==============================] - 2s 48ms/step - loss: 0.9493 - accuracy: 0.6694\n",
      "Epoch 11/25\n",
      "49/49 [==============================] - 2s 44ms/step - loss: 0.9461 - accuracy: 0.6709\n",
      "Epoch 12/25\n",
      "49/49 [==============================] - 2s 48ms/step - loss: 0.9405 - accuracy: 0.6731\n",
      "Epoch 13/25\n",
      "49/49 [==============================] - 2s 47ms/step - loss: 0.9404 - accuracy: 0.6730\n",
      "Epoch 14/25\n",
      "49/49 [==============================] - 2s 47ms/step - loss: 0.9334 - accuracy: 0.6765\n",
      "Epoch 15/25\n",
      "49/49 [==============================] - 2s 43ms/step - loss: 0.9292 - accuracy: 0.6785\n",
      "Epoch 16/25\n",
      "49/49 [==============================] - 2s 46ms/step - loss: 0.9330 - accuracy: 0.6752\n",
      "Epoch 17/25\n",
      "49/49 [==============================] - 2s 45ms/step - loss: 0.9279 - accuracy: 0.6782\n",
      "Epoch 18/25\n",
      "49/49 [==============================] - 2s 45ms/step - loss: 0.9239 - accuracy: 0.6804\n",
      "Epoch 19/25\n",
      "49/49 [==============================] - 2s 47ms/step - loss: 0.9217 - accuracy: 0.6803\n",
      "Epoch 20/25\n",
      "49/49 [==============================] - 2s 45ms/step - loss: 0.9136 - accuracy: 0.6833\n",
      "Epoch 21/25\n",
      "49/49 [==============================] - 2s 47ms/step - loss: 0.9085 - accuracy: 0.6867\n",
      "Epoch 22/25\n",
      "49/49 [==============================] - 2s 48ms/step - loss: 0.9125 - accuracy: 0.6828\n",
      "Epoch 23/25\n",
      "49/49 [==============================] - 2s 44ms/step - loss: 0.9090 - accuracy: 0.6849\n",
      "Epoch 24/25\n",
      "49/49 [==============================] - 2s 47ms/step - loss: 0.9063 - accuracy: 0.6860\n",
      "Epoch 25/25\n",
      "49/49 [==============================] - 2s 45ms/step - loss: 0.9044 - accuracy: 0.6857\n",
      "313/313 [==============================] - 1s 2ms/step - loss: 324.8466 - accuracy: 0.4457\n",
      "Epoch 1/25\n",
      "49/49 [==============================] - 3s 45ms/step - loss: 0.9697 - accuracy: 0.6629\n",
      "Epoch 2/25\n",
      "49/49 [==============================] - 2s 47ms/step - loss: 0.8969 - accuracy: 0.6907\n",
      "Epoch 3/25\n",
      "49/49 [==============================] - 2s 47ms/step - loss: 0.8991 - accuracy: 0.6881\n",
      "Epoch 4/25\n",
      "49/49 [==============================] - 2s 47ms/step - loss: 0.8983 - accuracy: 0.6887\n",
      "Epoch 5/25\n",
      "49/49 [==============================] - 2s 47ms/step - loss: 0.9006 - accuracy: 0.6876\n",
      "Epoch 6/25\n",
      "49/49 [==============================] - 2s 43ms/step - loss: 0.8947 - accuracy: 0.6899\n",
      "Epoch 7/25\n",
      "49/49 [==============================] - 2s 46ms/step - loss: 0.8855 - accuracy: 0.6935\n",
      "Epoch 8/25\n",
      "49/49 [==============================] - 2s 47ms/step - loss: 0.8831 - accuracy: 0.6940\n",
      "Epoch 9/25\n",
      "49/49 [==============================] - 2s 48ms/step - loss: 0.8831 - accuracy: 0.6935\n",
      "Epoch 10/25\n",
      "49/49 [==============================] - 2s 45ms/step - loss: 0.8889 - accuracy: 0.6901\n",
      "Epoch 11/25\n",
      "49/49 [==============================] - 2s 47ms/step - loss: 0.8779 - accuracy: 0.6965\n",
      "Epoch 12/25\n",
      "49/49 [==============================] - 2s 47ms/step - loss: 0.8752 - accuracy: 0.6972\n",
      "Epoch 13/25\n",
      "49/49 [==============================] - 2s 48ms/step - loss: 0.8760 - accuracy: 0.6967\n",
      "Epoch 14/25\n",
      "49/49 [==============================] - 2s 47ms/step - loss: 0.8711 - accuracy: 0.6970\n",
      "Epoch 15/25\n",
      "49/49 [==============================] - 2s 46ms/step - loss: 0.8630 - accuracy: 0.7020\n",
      "Epoch 16/25\n",
      "49/49 [==============================] - 2s 45ms/step - loss: 0.8640 - accuracy: 0.7001\n",
      "Epoch 17/25\n",
      "49/49 [==============================] - 2s 45ms/step - loss: 0.8713 - accuracy: 0.6973\n",
      "Epoch 18/25\n",
      "49/49 [==============================] - 2s 44ms/step - loss: 0.8581 - accuracy: 0.7029\n",
      "Epoch 19/25\n",
      "49/49 [==============================] - 2s 44ms/step - loss: 0.8572 - accuracy: 0.7029\n",
      "Epoch 20/25\n",
      "49/49 [==============================] - 2s 46ms/step - loss: 0.8502 - accuracy: 0.7066\n",
      "Epoch 21/25\n",
      "49/49 [==============================] - 2s 46ms/step - loss: 0.8516 - accuracy: 0.7051\n",
      "Epoch 22/25\n",
      "49/49 [==============================] - 2s 46ms/step - loss: 0.8512 - accuracy: 0.7042\n",
      "Epoch 23/25\n",
      "49/49 [==============================] - 2s 45ms/step - loss: 0.8493 - accuracy: 0.7067\n",
      "Epoch 24/25\n",
      "49/49 [==============================] - 2s 44ms/step - loss: 0.8418 - accuracy: 0.7098\n",
      "Epoch 25/25\n",
      "49/49 [==============================] - 2s 44ms/step - loss: 0.8370 - accuracy: 0.7099\n",
      "313/313 [==============================] - 1s 2ms/step - loss: 341.9101 - accuracy: 0.4411\n",
      "Epoch 1/25\n",
      "49/49 [==============================] - 3s 45ms/step - loss: 0.9276 - accuracy: 0.6809\n",
      "Epoch 2/25\n",
      "49/49 [==============================] - 2s 44ms/step - loss: 0.8282 - accuracy: 0.7135\n",
      "Epoch 3/25\n",
      "49/49 [==============================] - 2s 44ms/step - loss: 0.8380 - accuracy: 0.7091\n",
      "Epoch 4/25\n",
      "49/49 [==============================] - 2s 49ms/step - loss: 0.8324 - accuracy: 0.7115\n",
      "Epoch 5/25\n",
      "49/49 [==============================] - 2s 45ms/step - loss: 0.8298 - accuracy: 0.7123\n",
      "Epoch 6/25\n",
      "49/49 [==============================] - 2s 47ms/step - loss: 0.8309 - accuracy: 0.7110\n",
      "Epoch 7/25\n",
      "49/49 [==============================] - 2s 49ms/step - loss: 0.8210 - accuracy: 0.7161\n",
      "Epoch 8/25\n",
      "49/49 [==============================] - 2s 47ms/step - loss: 0.8245 - accuracy: 0.7156\n",
      "Epoch 9/25\n",
      "49/49 [==============================] - 2s 46ms/step - loss: 0.8331 - accuracy: 0.7115\n",
      "Epoch 10/25\n",
      "49/49 [==============================] - 3s 52ms/step - loss: 0.8239 - accuracy: 0.7135\n",
      "Epoch 11/25\n",
      "49/49 [==============================] - 2s 43ms/step - loss: 0.8142 - accuracy: 0.7190\n",
      "Epoch 12/25\n",
      "49/49 [==============================] - 2s 45ms/step - loss: 0.8079 - accuracy: 0.7209\n",
      "Epoch 13/25\n",
      "49/49 [==============================] - 2s 46ms/step - loss: 0.8030 - accuracy: 0.7246\n",
      "Epoch 14/25\n",
      "49/49 [==============================] - 2s 44ms/step - loss: 0.8107 - accuracy: 0.7207\n",
      "Epoch 15/25\n",
      "49/49 [==============================] - 2s 47ms/step - loss: 0.8002 - accuracy: 0.7243\n",
      "Epoch 16/25\n",
      "49/49 [==============================] - 2s 47ms/step - loss: 0.7987 - accuracy: 0.7243\n",
      "Epoch 17/25\n",
      "49/49 [==============================] - 2s 49ms/step - loss: 0.8008 - accuracy: 0.7244\n",
      "Epoch 18/25\n",
      "49/49 [==============================] - 2s 49ms/step - loss: 0.7883 - accuracy: 0.7271\n",
      "Epoch 19/25\n",
      "49/49 [==============================] - 2s 46ms/step - loss: 0.7882 - accuracy: 0.7277\n",
      "Epoch 20/25\n",
      "49/49 [==============================] - 2s 45ms/step - loss: 0.7902 - accuracy: 0.7275\n",
      "Epoch 21/25\n",
      "49/49 [==============================] - 2s 49ms/step - loss: 0.7853 - accuracy: 0.7298\n",
      "Epoch 22/25\n",
      "49/49 [==============================] - 2s 46ms/step - loss: 0.7759 - accuracy: 0.7340\n",
      "Epoch 23/25\n",
      "49/49 [==============================] - 2s 48ms/step - loss: 0.7750 - accuracy: 0.7337\n",
      "Epoch 24/25\n",
      "49/49 [==============================] - 2s 46ms/step - loss: 0.7798 - accuracy: 0.7315\n",
      "Epoch 25/25\n",
      "49/49 [==============================] - 2s 46ms/step - loss: 0.7741 - accuracy: 0.7342\n",
      "313/313 [==============================] - 1s 2ms/step - loss: 374.1581 - accuracy: 0.4506\n"
     ]
    }
   ],
   "source": [
    "n = 10\n",
    "res_loss = np.zeros(n)\n",
    "res_acc = np.zeros(n)\n",
    "alphas = np.zeros(n)\n",
    "\n",
    "for i in range(n):\n",
    "    alpha = 0.0001*(i+1)\n",
    "    alphas[i] = alpha\n",
    "    model.compile(optimizer='adam',loss='sparse_categorical_crossentropy',metrics=['accuracy'])\n",
    "    K.set_value(model.optimizer.learning_rate, alpha)\n",
    "    # Define the Keras TensorBoard callback.\n",
    "    logdir=\"logs/fit/\" + datetime.now().strftime(\"%Y%m%d-%H%M%S\")\n",
    "    tensorboard_callback = keras.callbacks.TensorBoard(log_dir=logdir)\n",
    "    # Train the model.\n",
    "    model.fit(x_train, y_train, batch_size=1024,epochs=25, callbacks=[tensorboard_callback])\n",
    "    # Evaluate\n",
    "    score = model.evaluate(x_test, y_test)\n",
    "    res_loss[i] = score[0]\n",
    "    res_acc[i] = score[1]"
   ]
  },
  {
   "cell_type": "code",
   "execution_count": null,
   "metadata": {},
   "outputs": [],
   "source": [
    "plt.plot(alphas,res_loss)\n",
    "plt.title(\"Results\")\n",
    "plt.ylabel(\"loss\")\n",
    "plt.xlabel(\"learning rate\")"
   ]
  },
  {
   "cell_type": "code",
   "execution_count": null,
   "metadata": {},
   "outputs": [],
   "source": [
    "plt.plot(alphas,res_acc)\n",
    "plt.title(\"Results\")\n",
    "plt.ylabel(\"accuracy\")\n",
    "plt.xlabel(\"learning rate\")"
   ]
  },
  {
   "cell_type": "markdown",
   "metadata": {},
   "source": [
    "### What is the effect of batch size on the training process? Which performed best?"
   ]
  },
  {
   "cell_type": "code",
   "execution_count": null,
   "metadata": {},
   "outputs": [],
   "source": [
    "n = 10\n",
    "res_loss2 = np.zeros(n)\n",
    "res_acc2 = np.zeros(n)\n",
    "batchs = np.zeros(n)\n",
    "\n",
    "for i in range(n):\n",
    "    batch = 10*(i+1)\n",
    "    batchs[i] = batch\n",
    "    model.compile(optimizer='adam',loss='sparse_categorical_crossentropy',metrics=['accuracy'])\n",
    "    # Define the Keras TensorBoard callback.\n",
    "    logdir=\"logs/fit/\" + datetime.now().strftime(\"%Y%m%d-%H%M%S\")\n",
    "    tensorboard_callback = keras.callbacks.TensorBoard(log_dir=logdir)\n",
    "    # Train the model.\n",
    "    model.fit(x_train, y_train, batch_size=batch,epochs=25, callbacks=[tensorboard_callback])\n",
    "    # Evaluate\n",
    "    score = model.evaluate(x_test, y_test)\n",
    "    res_loss2[i] = score[0]\n",
    "    res_acc2[i] = score[1]"
   ]
  },
  {
   "cell_type": "code",
   "execution_count": null,
   "metadata": {},
   "outputs": [],
   "source": [
    "plt.plot(batch,res_loss2)\n",
    "plt.title(\"Results\")\n",
    "plt.ylabel(\"loss\")\n",
    "plt.xlabel(\"learning rate\")"
   ]
  },
  {
   "cell_type": "code",
   "execution_count": null,
   "metadata": {},
   "outputs": [],
   "source": [
    "plt.plot(batch,res_acc2)\n",
    "plt.title(\"Results\")\n",
    "plt.ylabel(\"accuracy\")\n",
    "plt.xlabel(\"learning rate\")"
   ]
  },
  {
   "cell_type": "markdown",
   "metadata": {},
   "source": [
    "### Try different hyperparameters to obtain the best accuracy on the test set. What is your best performance and what were the hyperparameters?"
   ]
  },
  {
   "cell_type": "code",
   "execution_count": null,
   "metadata": {},
   "outputs": [],
   "source": []
  },
  {
   "cell_type": "markdown",
   "metadata": {},
   "source": [
    "### Implement an equivalent feed forward network for the same task with each hidden layer containing the same number of neurons as the number of filters in each convolution layer. Use the ‘Adam’ optimizer to train your network on the CIFAR-10 dataset for a fixed set of 25 epochs. Compare its performance with your LeNet implementation based on the following questions: \n",
    "\n",
    "a. What is its performance?\n",
    "b. How many parameters are there in this network compared to the LeNet\n",
    "implementation? Are they worth it?"
   ]
  },
  {
   "cell_type": "code",
   "execution_count": null,
   "metadata": {},
   "outputs": [],
   "source": []
  },
  {
   "cell_type": "markdown",
   "metadata": {
    "id": "BFJ6DFl38eSU"
   },
   "source": [
    "# Question 3\n",
    "\n",
    "\n",
    "\n"
   ]
  },
  {
   "cell_type": "markdown",
   "metadata": {
    "id": "euz1IZnM9Cke"
   },
   "source": [
    "### What are the dimensions of the input and the kernel (or filter)? How many parameters are there in the kernel f?\n",
    "\n"
   ]
  },
  {
   "cell_type": "code",
   "execution_count": 8,
   "metadata": {
    "colab": {
     "base_uri": "https://localhost:8080/"
    },
    "executionInfo": {
     "elapsed": 124,
     "status": "ok",
     "timestamp": 1667239043031,
     "user": {
      "displayName": "Alberto Navarro",
      "userId": "07299865193384909733"
     },
     "user_tz": 300
    },
    "id": "NbsyxPcu8jKK",
    "outputId": "cd1eba0b-d658-444b-a84e-8e014ffa2f0e"
   },
   "outputs": [
    {
     "name": "stdout",
     "output_type": "stream",
     "text": [
      "Depth of input/kernel: 1\n",
      "Input dimensions:  (6, 6)\n",
      "Kernel dimensions:  (3, 3)\n",
      "Parameters in kernel:  10\n"
     ]
    }
   ],
   "source": [
    "# Input \n",
    "matrix = np.array([[7,5,0,0,3,2],[6,4,5,1,4,8],[9,0,2,2,5,4],[6,3,4,7,9,8],[5,7,5,6,9,0],[7,9,0,8,2,3]])\n",
    "W1,H1 = np.shape(matrix)\n",
    "C = 1\n",
    "print(\"Depth of input/kernel:\", C)\n",
    "\n",
    "# filter\n",
    "kernel = np.array([[1,0,-1],[2,0,-2],[1,0,-1]])\n",
    "F = np.shape(kernel)[0]\n",
    "\n",
    "print(\"Input dimensions: \",np.shape(matrix))\n",
    "print(\"Kernel dimensions: \",np.shape(kernel))\n",
    "\n",
    "##Parameters in kernel \n",
    "par = F*F*C + 1\n",
    "print(\"Parameters in kernel: \",par)"
   ]
  },
  {
   "cell_type": "markdown",
   "metadata": {
    "id": "olr0VmugDnia"
   },
   "source": [
    "### What is the output activation map when you apply the convolutional operation using the filter f on the input X without padding?"
   ]
  },
  {
   "cell_type": "code",
   "execution_count": 9,
   "metadata": {
    "colab": {
     "base_uri": "https://localhost:8080/"
    },
    "executionInfo": {
     "elapsed": 5,
     "status": "ok",
     "timestamp": 1667239044668,
     "user": {
      "displayName": "Alberto Navarro",
      "userId": "07299865193384909733"
     },
     "user_tz": 300
    },
    "id": "obts4s9ZBFr9",
    "outputId": "060472bf-db00-4f82-eb46-02df4a4d6296"
   },
   "outputs": [
    {
     "name": "stdout",
     "output_type": "stream",
     "text": [
      "Output dimensions: (4.0, 4.0, 1)\n",
      "Output:  [[ 16   9  -4 -18]\n",
      " [ 17  -5 -10 -12]\n",
      " [ 11  -9 -17   2]\n",
      " [  9  -1 -15  16]]\n"
     ]
    }
   ],
   "source": [
    "## stride and padding\n",
    "S, P = (1,0)\n",
    "W2 = (W1-F+2*P)/S + 1\n",
    "H2 = (H1-F+2*P)/S + 1\n",
    "out_dim = (W2,H2,C)\n",
    "\n",
    "print(\"Output dimensions:\",out_dim)\n",
    "\n",
    "#convolutional layer\n",
    "def conv2d(mat, krn):\n",
    "\n",
    "    is0, is1, ks0, ks1 = *mat.shape, *krn.shape\n",
    "    rs0, rs1 = is0 - ks0 + 1, is1 - ks1 + 1\n",
    "    res = np.zeros((rs0, rs1), dtype = krn.dtype)\n",
    "    \n",
    "    for i in range(rs0):\n",
    "        for j in range(rs1):\n",
    "            res[i, j] = (krn * mat[i : i + ks0, j : j + ks1]).sum()\n",
    "            \n",
    "    return res\n",
    "##output    \n",
    "output = conv2d(matrix,kernel)\n",
    "print(\"Output: \",output)"
   ]
  },
  {
   "cell_type": "markdown",
   "metadata": {
    "id": "yuQe5RxhIv7Q"
   },
   "source": [
    "### What is the output when you apply a max-pooling operation on the output from the previous question?"
   ]
  },
  {
   "cell_type": "code",
   "execution_count": 11,
   "metadata": {
    "colab": {
     "base_uri": "https://localhost:8080/"
    },
    "executionInfo": {
     "elapsed": 194,
     "status": "ok",
     "timestamp": 1667239046697,
     "user": {
      "displayName": "Alberto Navarro",
      "userId": "07299865193384909733"
     },
     "user_tz": 300
    },
    "id": "ygPvJQemITjD",
    "outputId": "4dddf84c-ab48-48c1-a11e-839bbc3a216c"
   },
   "outputs": [
    {
     "name": "stdout",
     "output_type": "stream",
     "text": [
      "Max pooling output:  [[17 -4]\n",
      " [11 16]]\n"
     ]
    }
   ],
   "source": [
    "import skimage.measure\n",
    "## Using a 2x2 filter with stride 2\n",
    "max_pool_out = skimage.measure.block_reduce(output, (2,2), np.max)\n",
    "print(\"Max pooling output: \",max_pool_out)"
   ]
  },
  {
   "cell_type": "code",
   "execution_count": null,
   "metadata": {
    "id": "ukKPAzp3Kr3y"
   },
   "outputs": [],
   "source": []
  }
 ],
 "metadata": {
  "colab": {
   "authorship_tag": "ABX9TyO2q37OvAeKaV/CREHW6sb/",
   "provenance": []
  },
  "kernelspec": {
   "display_name": "Python 3 (ipykernel)",
   "language": "python",
   "name": "python3"
  },
  "language_info": {
   "codemirror_mode": {
    "name": "ipython",
    "version": 3
   },
   "file_extension": ".py",
   "mimetype": "text/x-python",
   "name": "python",
   "nbconvert_exporter": "python",
   "pygments_lexer": "ipython3",
   "version": "3.10.6"
  }
 },
 "nbformat": 4,
 "nbformat_minor": 1
}
